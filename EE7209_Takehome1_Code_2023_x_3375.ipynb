{
  "cells": [
    {
      "cell_type": "markdown",
      "source": [
        "#Install openpyxl"
      ],
      "metadata": {
        "id": "qdc42FUVuKRb"
      },
      "id": "qdc42FUVuKRb"
    },
    {
      "cell_type": "code",
      "source": [
        "!pip install openpyxl"
      ],
      "metadata": {
        "colab": {
          "base_uri": "https://localhost:8080/"
        },
        "id": "7oM_EWGEuJFt",
        "outputId": "8b41f034-debf-4ca2-8836-14ac32f817e6"
      },
      "id": "7oM_EWGEuJFt",
      "execution_count": 24,
      "outputs": [
        {
          "output_type": "stream",
          "name": "stdout",
          "text": [
            "Looking in indexes: https://pypi.org/simple, https://us-python.pkg.dev/colab-wheels/public/simple/\n",
            "Requirement already satisfied: openpyxl in /usr/local/lib/python3.8/dist-packages (3.0.10)\n",
            "Requirement already satisfied: et-xmlfile in /usr/local/lib/python3.8/dist-packages (from openpyxl) (1.1.0)\n"
          ]
        }
      ]
    },
    {
      "cell_type": "markdown",
      "source": [
        "#Import libraries\n"
      ],
      "metadata": {
        "id": "4dohuWCLtCpf"
      },
      "id": "4dohuWCLtCpf"
    },
    {
      "cell_type": "code",
      "execution_count": 25,
      "id": "398497dc",
      "metadata": {
        "id": "398497dc"
      },
      "outputs": [],
      "source": [
        "import pandas as pd\n",
        "import numpy as np\n",
        "import matplotlib.pyplot as plt\n",
        "import random\n",
        "%matplotlib inline\n",
        "\n"
      ]
    },
    {
      "cell_type": "markdown",
      "source": [
        "#Import data file as excel file"
      ],
      "metadata": {
        "id": "foH5DI_TuQ9b"
      },
      "id": "foH5DI_TuQ9b"
    },
    {
      "cell_type": "code",
      "source": [
        "from google.colab import files\n",
        "files.upload()"
      ],
      "metadata": {
        "colab": {
          "base_uri": "https://localhost:8080/",
          "height": 1000
        },
        "id": "9sR2ZqkPq4Y0",
        "outputId": "736edc4b-f39c-455a-cadc-6110dd9eb062"
      },
      "id": "9sR2ZqkPq4Y0",
      "execution_count": 26,
      "outputs": [
        {
          "output_type": "display_data",
          "data": {
            "text/plain": [
              "<IPython.core.display.HTML object>"
            ],
            "text/html": [
              "\n",
              "     <input type=\"file\" id=\"files-87b89c9d-c563-45c6-8cb6-9afdb8e5189d\" name=\"files[]\" multiple disabled\n",
              "        style=\"border:none\" />\n",
              "     <output id=\"result-87b89c9d-c563-45c6-8cb6-9afdb8e5189d\">\n",
              "      Upload widget is only available when the cell has been executed in the\n",
              "      current browser session. Please rerun this cell to enable.\n",
              "      </output>\n",
              "      <script>// Copyright 2017 Google LLC\n",
              "//\n",
              "// Licensed under the Apache License, Version 2.0 (the \"License\");\n",
              "// you may not use this file except in compliance with the License.\n",
              "// You may obtain a copy of the License at\n",
              "//\n",
              "//      http://www.apache.org/licenses/LICENSE-2.0\n",
              "//\n",
              "// Unless required by applicable law or agreed to in writing, software\n",
              "// distributed under the License is distributed on an \"AS IS\" BASIS,\n",
              "// WITHOUT WARRANTIES OR CONDITIONS OF ANY KIND, either express or implied.\n",
              "// See the License for the specific language governing permissions and\n",
              "// limitations under the License.\n",
              "\n",
              "/**\n",
              " * @fileoverview Helpers for google.colab Python module.\n",
              " */\n",
              "(function(scope) {\n",
              "function span(text, styleAttributes = {}) {\n",
              "  const element = document.createElement('span');\n",
              "  element.textContent = text;\n",
              "  for (const key of Object.keys(styleAttributes)) {\n",
              "    element.style[key] = styleAttributes[key];\n",
              "  }\n",
              "  return element;\n",
              "}\n",
              "\n",
              "// Max number of bytes which will be uploaded at a time.\n",
              "const MAX_PAYLOAD_SIZE = 100 * 1024;\n",
              "\n",
              "function _uploadFiles(inputId, outputId) {\n",
              "  const steps = uploadFilesStep(inputId, outputId);\n",
              "  const outputElement = document.getElementById(outputId);\n",
              "  // Cache steps on the outputElement to make it available for the next call\n",
              "  // to uploadFilesContinue from Python.\n",
              "  outputElement.steps = steps;\n",
              "\n",
              "  return _uploadFilesContinue(outputId);\n",
              "}\n",
              "\n",
              "// This is roughly an async generator (not supported in the browser yet),\n",
              "// where there are multiple asynchronous steps and the Python side is going\n",
              "// to poll for completion of each step.\n",
              "// This uses a Promise to block the python side on completion of each step,\n",
              "// then passes the result of the previous step as the input to the next step.\n",
              "function _uploadFilesContinue(outputId) {\n",
              "  const outputElement = document.getElementById(outputId);\n",
              "  const steps = outputElement.steps;\n",
              "\n",
              "  const next = steps.next(outputElement.lastPromiseValue);\n",
              "  return Promise.resolve(next.value.promise).then((value) => {\n",
              "    // Cache the last promise value to make it available to the next\n",
              "    // step of the generator.\n",
              "    outputElement.lastPromiseValue = value;\n",
              "    return next.value.response;\n",
              "  });\n",
              "}\n",
              "\n",
              "/**\n",
              " * Generator function which is called between each async step of the upload\n",
              " * process.\n",
              " * @param {string} inputId Element ID of the input file picker element.\n",
              " * @param {string} outputId Element ID of the output display.\n",
              " * @return {!Iterable<!Object>} Iterable of next steps.\n",
              " */\n",
              "function* uploadFilesStep(inputId, outputId) {\n",
              "  const inputElement = document.getElementById(inputId);\n",
              "  inputElement.disabled = false;\n",
              "\n",
              "  const outputElement = document.getElementById(outputId);\n",
              "  outputElement.innerHTML = '';\n",
              "\n",
              "  const pickedPromise = new Promise((resolve) => {\n",
              "    inputElement.addEventListener('change', (e) => {\n",
              "      resolve(e.target.files);\n",
              "    });\n",
              "  });\n",
              "\n",
              "  const cancel = document.createElement('button');\n",
              "  inputElement.parentElement.appendChild(cancel);\n",
              "  cancel.textContent = 'Cancel upload';\n",
              "  const cancelPromise = new Promise((resolve) => {\n",
              "    cancel.onclick = () => {\n",
              "      resolve(null);\n",
              "    };\n",
              "  });\n",
              "\n",
              "  // Wait for the user to pick the files.\n",
              "  const files = yield {\n",
              "    promise: Promise.race([pickedPromise, cancelPromise]),\n",
              "    response: {\n",
              "      action: 'starting',\n",
              "    }\n",
              "  };\n",
              "\n",
              "  cancel.remove();\n",
              "\n",
              "  // Disable the input element since further picks are not allowed.\n",
              "  inputElement.disabled = true;\n",
              "\n",
              "  if (!files) {\n",
              "    return {\n",
              "      response: {\n",
              "        action: 'complete',\n",
              "      }\n",
              "    };\n",
              "  }\n",
              "\n",
              "  for (const file of files) {\n",
              "    const li = document.createElement('li');\n",
              "    li.append(span(file.name, {fontWeight: 'bold'}));\n",
              "    li.append(span(\n",
              "        `(${file.type || 'n/a'}) - ${file.size} bytes, ` +\n",
              "        `last modified: ${\n",
              "            file.lastModifiedDate ? file.lastModifiedDate.toLocaleDateString() :\n",
              "                                    'n/a'} - `));\n",
              "    const percent = span('0% done');\n",
              "    li.appendChild(percent);\n",
              "\n",
              "    outputElement.appendChild(li);\n",
              "\n",
              "    const fileDataPromise = new Promise((resolve) => {\n",
              "      const reader = new FileReader();\n",
              "      reader.onload = (e) => {\n",
              "        resolve(e.target.result);\n",
              "      };\n",
              "      reader.readAsArrayBuffer(file);\n",
              "    });\n",
              "    // Wait for the data to be ready.\n",
              "    let fileData = yield {\n",
              "      promise: fileDataPromise,\n",
              "      response: {\n",
              "        action: 'continue',\n",
              "      }\n",
              "    };\n",
              "\n",
              "    // Use a chunked sending to avoid message size limits. See b/62115660.\n",
              "    let position = 0;\n",
              "    do {\n",
              "      const length = Math.min(fileData.byteLength - position, MAX_PAYLOAD_SIZE);\n",
              "      const chunk = new Uint8Array(fileData, position, length);\n",
              "      position += length;\n",
              "\n",
              "      const base64 = btoa(String.fromCharCode.apply(null, chunk));\n",
              "      yield {\n",
              "        response: {\n",
              "          action: 'append',\n",
              "          file: file.name,\n",
              "          data: base64,\n",
              "        },\n",
              "      };\n",
              "\n",
              "      let percentDone = fileData.byteLength === 0 ?\n",
              "          100 :\n",
              "          Math.round((position / fileData.byteLength) * 100);\n",
              "      percent.textContent = `${percentDone}% done`;\n",
              "\n",
              "    } while (position < fileData.byteLength);\n",
              "  }\n",
              "\n",
              "  // All done.\n",
              "  yield {\n",
              "    response: {\n",
              "      action: 'complete',\n",
              "    }\n",
              "  };\n",
              "}\n",
              "\n",
              "scope.google = scope.google || {};\n",
              "scope.google.colab = scope.google.colab || {};\n",
              "scope.google.colab._files = {\n",
              "  _uploadFiles,\n",
              "  _uploadFilesContinue,\n",
              "};\n",
              "})(self);\n",
              "</script> "
            ]
          },
          "metadata": {}
        },
        {
          "output_type": "stream",
          "name": "stdout",
          "text": [
            "Saving dataset.xlsx to dataset (1).xlsx\n"
          ]
        },
        {
          "output_type": "execute_result",
          "data": {
            "text/plain": [
              "{'dataset.xlsx': b'PK\\x03\\x04\\x14\\x00\\x06\\x00\\x08\\x00\\x00\\x00!\\x00LA\\x02\\x11_\\x01\\x00\\x00\\x90\\x04\\x00\\x00\\x13\\x00\\x08\\x02[Content_Types].xml \\xa2\\x04\\x02(\\xa0\\x00\\x02\\x00\\x00\\x00\\x00\\x00\\x00\\x00\\x00\\x00\\x00\\x00\\x00\\x00\\x00\\x00\\x00\\x00\\x00\\x00\\x00\\x00\\x00\\x00\\x00\\x00\\x00\\x00\\x00\\x00\\x00\\x00\\x00\\x00\\x00\\x00\\x00\\x00\\x00\\x00\\x00\\x00\\x00\\x00\\x00\\x00\\x00\\x00\\x00\\x00\\x00\\x00\\x00\\x00\\x00\\x00\\x00\\x00\\x00\\x00\\x00\\x00\\x00\\x00\\x00\\x00\\x00\\x00\\x00\\x00\\x00\\x00\\x00\\x00\\x00\\x00\\x00\\x00\\x00\\x00\\x00\\x00\\x00\\x00\\x00\\x00\\x00\\x00\\x00\\x00\\x00\\x00\\x00\\x00\\x00\\x00\\x00\\x00\\x00\\x00\\x00\\x00\\x00\\x00\\x00\\x00\\x00\\x00\\x00\\x00\\x00\\x00\\x00\\x00\\x00\\x00\\x00\\x00\\x00\\x00\\x00\\x00\\x00\\x00\\x00\\x00\\x00\\x00\\x00\\x00\\x00\\x00\\x00\\x00\\x00\\x00\\x00\\x00\\x00\\x00\\x00\\x00\\x00\\x00\\x00\\x00\\x00\\x00\\x00\\x00\\x00\\x00\\x00\\x00\\x00\\x00\\x00\\x00\\x00\\x00\\x00\\x00\\x00\\x00\\x00\\x00\\x00\\x00\\x00\\x00\\x00\\x00\\x00\\x00\\x00\\x00\\x00\\x00\\x00\\x00\\x00\\x00\\x00\\x00\\x00\\x00\\x00\\x00\\x00\\x00\\x00\\x00\\x00\\x00\\x00\\x00\\x00\\x00\\x00\\x00\\x00\\x00\\x00\\x00\\x00\\x00\\x00\\x00\\x00\\x00\\x00\\x00\\x00\\x00\\x00\\x00\\x00\\x00\\x00\\x00\\x00\\x00\\x00\\x00\\x00\\x00\\x00\\x00\\x00\\x00\\x00\\x00\\x00\\x00\\x00\\x00\\x00\\x00\\x00\\x00\\x00\\x00\\x00\\x00\\x00\\x00\\x00\\x00\\x00\\x00\\x00\\x00\\x00\\x00\\x00\\x00\\x00\\x00\\x00\\x00\\x00\\x00\\x00\\x00\\x00\\x00\\x00\\x00\\x00\\x00\\x00\\x00\\x00\\x00\\x00\\x00\\x00\\x00\\x00\\x00\\x00\\x00\\x00\\x00\\x00\\x00\\x00\\x00\\x00\\x00\\x00\\x00\\x00\\x00\\x00\\x00\\x00\\x00\\x00\\x00\\x00\\x00\\x00\\x00\\x00\\x00\\x00\\x00\\x00\\x00\\x00\\x00\\x00\\x00\\x00\\x00\\x00\\x00\\x00\\x00\\x00\\x00\\x00\\x00\\x00\\x00\\x00\\x00\\x00\\x00\\x00\\x00\\x00\\x00\\x00\\x00\\x00\\x00\\x00\\x00\\x00\\x00\\x00\\x00\\x00\\x00\\x00\\x00\\x00\\x00\\x00\\x00\\x00\\x00\\x00\\x00\\x00\\x00\\x00\\x00\\x00\\x00\\x00\\x00\\x00\\x00\\x00\\x00\\x00\\x00\\x00\\x00\\x00\\x00\\x00\\x00\\x00\\x00\\x00\\x00\\x00\\x00\\x00\\x00\\x00\\x00\\x00\\x00\\x00\\x00\\x00\\x00\\x00\\x00\\x00\\x00\\x00\\x00\\x00\\x00\\x00\\x00\\x00\\x00\\x00\\x00\\x00\\x00\\x00\\x00\\x00\\x00\\x00\\x00\\x00\\x00\\x00\\x00\\x00\\x00\\x00\\x00\\x00\\x00\\x00\\x00\\x00\\x00\\x00\\x00\\x00\\x00\\x00\\x00\\x00\\x00\\x00\\x00\\x00\\x00\\x00\\x00\\x00\\x00\\x00\\x00\\x00\\x00\\x00\\x00\\x00\\x00\\x00\\x00\\x00\\x00\\x00\\x00\\x00\\x00\\x00\\x00\\x00\\x00\\x00\\x00\\x00\\x00\\x00\\x00\\x00\\x00\\x00\\x00\\x00\\x00\\x00\\x00\\x00\\x00\\x00\\x00\\x00\\x00\\x00\\x00\\x00\\x00\\x00\\x00\\x00\\x00\\x00\\x00\\x00\\x00\\x00\\x00\\x00\\x00\\x00\\x00\\x00\\x00\\x00\\x00\\x00\\x00\\x00\\x00\\x00\\x00\\x00\\xac\\x94MN\\xc30\\x10\\x85\\xf7H\\xdc!\\xf2\\x16%nY \\x84\\x9at\\xc1\\xcf\\x12*Q\\x0e`\\xe2Ic\\xd5\\xb1-\\xcf\\xb4\\xb4\\xb7g\\xe2\\xb6\\x08\\xa1\\xd2\\x82\\xda\\x8d-\\xc7\\x9e\\xf7\\xbe\\xbc\\xb1<\\x1a\\xaf:\\x9b-!\\xa2\\xf1\\xae\\x14\\xc3b 2p\\xb5\\xd7\\xc6\\xcdJ\\xf16}\\xcaoE\\x86\\xa4\\x9cV\\xd6;(\\xc5\\x1aP\\x8c\\xab\\xcb\\x8b\\xd1t\\x1d\\x003\\xaevX\\x8a\\x96(\\xdcI\\x89u\\x0b\\x9d\\xc2\\xc2\\x07p\\xbc\\xd3\\xf8\\xd8)\\xe2e\\x9c\\xc9\\xa0\\xea\\xb9\\x9a\\x81\\xbc\\x1e\\x0cnd\\xed\\x1d\\x81\\xa3\\x9cz\\rQ\\x8d\\x1e\\xa0Q\\x0bK\\xd9\\xe3\\x8a?oH\"X\\x14\\xd9\\xfd\\xe6`\\xefU\\n\\x15\\x825\\xb5\"&\\x95K\\xa7\\x7f\\xb8\\xe4[\\x87\\x82+\\xd3\\x19lM\\xc0+\\xc6\\x10r\\xafC\\xbf\\xf3\\xbb\\xc1\\xb6\\xee\\x85\\xa3\\x89FC6Q\\x91\\x9eU\\xc7\\x18re\\xe5\\x87\\x8f\\xf3w\\xef\\xe7\\xc5a\\x91=\\x94\\xbeiL\\r\\xda\\xd7\\x8b\\x8e\\x13(0DP\\x1a[\\x00\\xeal\\x91\\xe6\\xa2S\\xc6\\xed\\xb8\\xf7\\xf9s\\xf1$\\xfa\\x80\\x1cc\\x84\\xff\\x13\\xecr\\xea\\xab\\xf3\\xc0B\\x10\\xc9\\xc0WR\\x07\\x1d\\xb9\\x05\\'\\xff2\\xf4M\\xd6\\xa0\\xff\\xe8\\xbdM;E\\x832M\\xc33\\xc7\\xdew3\\t\\x1fJ\\x9d9\\x88o7l\\xc6\\xd3\\x11\\x92\\xd8\\x11C\\xa4\\xb5\\x05<\\xf7%K\\xa2\\xc7\\x9c[\\x15A\\xbfR\\xe4w\\xe0\\xec\\x00\\xdf\\xb5w\\x1c2\\xbd\\'\\xd5\\'\\x00\\x00\\x00\\xff\\xff\\x03\\x00PK\\x03\\x04\\x14\\x00\\x06\\x00\\x08\\x00\\x00\\x00!\\x00\\xb5U0#\\xf4\\x00\\x00\\x00L\\x02\\x00\\x00\\x0b\\x00\\x08\\x02_rels/.rels \\xa2\\x04\\x02(\\xa0\\x00\\x02\\x00\\x00\\x00\\x00\\x00\\x00\\x00\\x00\\x00\\x00\\x00\\x00\\x00\\x00\\x00\\x00\\x00\\x00\\x00\\x00\\x00\\x00\\x00\\x00\\x00\\x00\\x00\\x00\\x00\\x00\\x00\\x00\\x00\\x00\\x00\\x00\\x00\\x00\\x00\\x00\\x00\\x00\\x00\\x00\\x00\\x00\\x00\\x00\\x00\\x00\\x00\\x00\\x00\\x00\\x00\\x00\\x00\\x00\\x00\\x00\\x00\\x00\\x00\\x00\\x00\\x00\\x00\\x00\\x00\\x00\\x00\\x00\\x00\\x00\\x00\\x00\\x00\\x00\\x00\\x00\\x00\\x00\\x00\\x00\\x00\\x00\\x00\\x00\\x00\\x00\\x00\\x00\\x00\\x00\\x00\\x00\\x00\\x00\\x00\\x00\\x00\\x00\\x00\\x00\\x00\\x00\\x00\\x00\\x00\\x00\\x00\\x00\\x00\\x00\\x00\\x00\\x00\\x00\\x00\\x00\\x00\\x00\\x00\\x00\\x00\\x00\\x00\\x00\\x00\\x00\\x00\\x00\\x00\\x00\\x00\\x00\\x00\\x00\\x00\\x00\\x00\\x00\\x00\\x00\\x00\\x00\\x00\\x00\\x00\\x00\\x00\\x00\\x00\\x00\\x00\\x00\\x00\\x00\\x00\\x00\\x00\\x00\\x00\\x00\\x00\\x00\\x00\\x00\\x00\\x00\\x00\\x00\\x00\\x00\\x00\\x00\\x00\\x00\\x00\\x00\\x00\\x00\\x00\\x00\\x00\\x00\\x00\\x00\\x00\\x00\\x00\\x00\\x00\\x00\\x00\\x00\\x00\\x00\\x00\\x00\\x00\\x00\\x00\\x00\\x00\\x00\\x00\\x00\\x00\\x00\\x00\\x00\\x00\\x00\\x00\\x00\\x00\\x00\\x00\\x00\\x00\\x00\\x00\\x00\\x00\\x00\\x00\\x00\\x00\\x00\\x00\\x00\\x00\\x00\\x00\\x00\\x00\\x00\\x00\\x00\\x00\\x00\\x00\\x00\\x00\\x00\\x00\\x00\\x00\\x00\\x00\\x00\\x00\\x00\\x00\\x00\\x00\\x00\\x00\\x00\\x00\\x00\\x00\\x00\\x00\\x00\\x00\\x00\\x00\\x00\\x00\\x00\\x00\\x00\\x00\\x00\\x00\\x00\\x00\\x00\\x00\\x00\\x00\\x00\\x00\\x00\\x00\\x00\\x00\\x00\\x00\\x00\\x00\\x00\\x00\\x00\\x00\\x00\\x00\\x00\\x00\\x00\\x00\\x00\\x00\\x00\\x00\\x00\\x00\\x00\\x00\\x00\\x00\\x00\\x00\\x00\\x00\\x00\\x00\\x00\\x00\\x00\\x00\\x00\\x00\\x00\\x00\\x00\\x00\\x00\\x00\\x00\\x00\\x00\\x00\\x00\\x00\\x00\\x00\\x00\\x00\\x00\\x00\\x00\\x00\\x00\\x00\\x00\\x00\\x00\\x00\\x00\\x00\\x00\\x00\\x00\\x00\\x00\\x00\\x00\\x00\\x00\\x00\\x00\\x00\\x00\\x00\\x00\\x00\\x00\\x00\\x00\\x00\\x00\\x00\\x00\\x00\\x00\\x00\\x00\\x00\\x00\\x00\\x00\\x00\\x00\\x00\\x00\\x00\\x00\\x00\\x00\\x00\\x00\\x00\\x00\\x00\\x00\\x00\\x00\\x00\\x00\\x00\\x00\\x00\\x00\\x00\\x00\\x00\\x00\\x00\\x00\\x00\\x00\\x00\\x00\\x00\\x00\\x00\\x00\\x00\\x00\\x00\\x00\\x00\\x00\\x00\\x00\\x00\\x00\\x00\\x00\\x00\\x00\\x00\\x00\\x00\\x00\\x00\\x00\\x00\\x00\\x00\\x00\\x00\\x00\\x00\\x00\\x00\\x00\\x00\\x00\\x00\\x00\\x00\\x00\\x00\\x00\\x00\\x00\\x00\\x00\\x00\\x00\\x00\\x00\\x00\\x00\\x00\\x00\\x00\\x00\\x00\\x00\\x00\\x00\\x00\\x00\\x00\\x00\\x00\\x00\\x00\\x00\\x00\\x00\\x00\\x00\\x00\\x00\\x00\\x00\\x00\\x00\\x00\\x00\\x00\\x00\\x00\\x00\\x00\\x00\\x00\\x00\\x00\\x00\\x00\\x00\\x00\\x00\\x00\\x00\\xac\\x92MO\\xc30\\x0c\\x86\\xefH\\xfc\\x87\\xc8\\xf7\\xd5\\xdd\\x90\\x10BKwAH\\xbb!T~\\x80I\\xdc\\x0f\\xb5\\x8d\\xa3$\\x1b\\xdd\\xbf\\'\\x1c\\x10T\\x1a\\x83\\x03G\\x7f\\xbd~\\xfc\\xca\\xdb\\xdd<\\x8d\\xea\\xc8!\\xf6\\xe24\\xac\\x8b\\x12\\x14;#\\xb6w\\xad\\x86\\x97\\xfaqu\\x07*&r\\x96Fq\\xac\\xe1\\xc4\\x11v\\xd5\\xf5\\xd5\\xf6\\x99GJy(v\\xbd\\x8f*\\xab\\xb8\\xa8\\xa1K\\xc9\\xdf#F\\xd3\\xf1D\\xb1\\x10\\xcf.W\\x1a\\t\\x13\\xa5\\x1c\\x86\\x16=\\x99\\x81Z\\xc6MY\\xdeb\\xf8\\xae\\x01\\xd5BS\\xed\\xad\\x86\\xb0\\xb77\\xa0\\xea\\x93\\xcf\\x9b\\x7f\\xd7\\x96\\xa6\\xe9\\r?\\x889L\\xec\\xd2\\x99\\x15\\xc8sbg\\xd9\\xae|\\xc8l!\\xf5\\xf9\\x1aUSh9i\\xb0b\\x9er:\"y_dl\\xc0\\xf3D\\x9b\\xbf\\x13\\xfd|-N\\x9c\\xc8R\"4\\x12\\xf82\\xcfG\\xc7%\\xa0\\xf5\\x7fZ\\xb44\\xf1\\xcb\\x9dy\\xc47\\t\\xc3\\xab\\xc8\\xf0\\xc9\\x82\\x8b\\x1f\\xa8\\xde\\x01\\x00\\x00\\xff\\xff\\x03\\x00PK\\x03\\x04\\x14\\x00\\x06\\x00\\x08\\x00\\x00\\x00!\\x00\\xb5[\\xdf\\xf2\\xc8\\x02\\x00\\x00\\xfa\\x06\\x00\\x00\\x0f\\x00\\x00\\x00xl/workbook.xml\\xa4Umo\\x9b0\\x10\\xfe>i\\xff\\x01\\xf9;\\x05S \\x04%\\xa9B\\x12\\xb4HMU\\xb5Y\\xbb}\\xaa\\\\0\\x89U\\xc0\\xc8\\x98\\x86\\xaa\\xea\\x7f\\xdf\\x19B\\xb2,\\xd3\\x84:\\x046\\xf6\\x9d\\x9f{\\xee\\x85ctUg\\xa9\\xf6JE\\xc9x>F\\xf8\\xc2D\\x1a\\xcd#\\x1e\\xb3|3F\\xdf\\xd7\\xa1\\xee!\\xad\\x94$\\x8fI\\xcas:Fo\\xb4DW\\x93\\xaf_F;.^\\x9e9\\x7f\\xd1\\x00 /\\xc7h+e\\xe1\\x1bF\\x19miF\\xca\\x0b^\\xd0\\x1c$\\t\\x17\\x19\\x91\\xb0\\x14\\x1b\\xa3,\\x04%q\\xb9\\xa5Tf\\xa9a\\x99\\xa6kd\\x84\\xe5\\xa8E\\xf0E\\x1f\\x0c\\x9e$,\\xa2s\\x1eU\\x19\\xcde\\x0b\"hJ$\\xd0/\\xb7\\xac(;\\xb4,\\xea\\x03\\x97\\x11\\xf1R\\x15z\\xc4\\xb3\\x02 \\x9eY\\xca\\xe4[\\x03\\x8a\\xb4,\\xf2\\x97\\x9b\\x9c\\x0b\\xf2\\x9c\\x82\\xdb5v\\xb4Z\\xc0\\xed\\xc2\\x83M\\x18\\xac\\xce\\x12\\x88\\xceLe,\\x12\\xbc\\xe4\\x89\\xbc\\x00h\\xa3%}\\xe6?6\\r\\x8cOBP\\x9f\\xc7\\xa0\\x1f\\x92m\\x08\\xfa\\xcaT\\x0e\\x0f\\xac\\x84\\xfbIV\\xee\\x01\\xcb=\\x82a\\xf3\\xbf\\xd10\\x94VS+>\\x04\\xef\\x93h\\xce\\x81\\x9b\\x85&\\xa3\\x84\\xa5\\xf4\\xa1-]\\x8d\\x14\\xc5\\r\\xc9T\\xa6R\\xa4\\xa5\\xa4\\x94\\x8b\\x98I\\x1a\\x8f\\xd1\\x00\\x96|G\\x8f\\x1b6\\xd2DU\\x04\\x15KAj\\xb9\\x18cdL\\x0e\\xe5|+\\xb4\\x98&\\xa4J\\xe5\\x1a\\n\\xb9\\x83\\x87/\\xc3u\\x87\\x96\\xa34k\\xe1w\\xc1\\xbe\\x95B\\x83\\xf7\\xe5\\xfc\\x1a\\x0c\\xde\\x93W0\\x0fN\\xc6\\xfb\\xea\\\\\\x02\\xbe\\xf7\\xf4\\xee\\xd8\\x0bw8\\x0bl=4\\x1dG\\xb7\\x03o\\xa0{\\xb6k\\xeb\\xee\\xd4\\xf2l\\xcf\\x9c-\\xdc`\\xf0\\x01\\xa1\\x11\\xae\\x1fqR\\xc9\\xed\\xde%\\x859F6\\xf0?\\x13\\xadH\\xddI\\xb0\\xe9W,>\\xda\\x7f7\\xf7\\x97\\xae\\xe6?\\x86N\\xf6\\xa1\\xfcP\\x1f\\xef\\x03\\xa3\\xbb\\xf2\\xe8\\xbcZj\\xf5#\\xcbc\\xbe\\x83\\xd8\\xd8\\xe0\\xcc[\\xb7\\xc2\\xa6\\x83\\xb4]#zd\\xb1\\xdcBH\\x80\\xfda\\xef\\x1be\\x9b-\\xf0\\xf5\\xcc&\\xcf\\xc2R\\xb4\\xc6\\xe8\\x84\\xce\\xbc\\xa5\\x13\\xc2\\xa5\\xab\\xe1\\x84\\x8e\\xf1\\x1b\\x9f\\xa6G\\x00\\xaff\\xd6\\xf2&\\xaf\\xf7\\xaao`hFjV\\xa1\\x85w\\xe1+\\x1bb\\x197)4\\xbac\\x11I#\\xc8\\xa3\\x9a\\x1a\\xc5!6-O\\xb9Lky]\\xcaf\\xd6*\\xc1\\x80^\\xe0x\\x81y9\\xb4t;\\xc4\\xa1n\\xe3\\xa1\\xa9\\x07\\x01$\\xc7\\x99\\x87\\x97\\xce\\x00\\xcfg\\x0b\\'T\\xc9Q=\\xce\\xaf\\x15b\\xf2\\xc9\\xd2\\xf5\\x8c\\xe64%\\xb2\\x12\\xd0C\\xa1\\x8e\\x9a\\xb5\\xaf\\xc6p\\xbf{\\xd8L\\xda\\x8d\\xbd\\xeb\\'=\\xc0\\xbf\\x9b7U\\xd8\\x9e\\xfe\\x97\\xe2=\\xf4\\xf0\\x94\\xf6T\\x0e\\x1fz*\\xcenV\\xebUO\\xdd\\xeb\\xc5\\xfa\\xe91\\xec\\xab<]\\x05\\xf3i\\x7f\\xfd\\xe9\\xdd\\xdd\\xf4\\xe7z\\xf1\\xa33a\\xfc5\\xa0\\x06\\xe4|2Rc\\x93y\\xa3\\xfbmM~\\x01\\x00\\x00\\xff\\xff\\x03\\x00PK\\x03\\x04\\x14\\x00\\x06\\x00\\x08\\x00\\x00\\x00!\\x00\\x81>\\x94\\x97\\xf3\\x00\\x00\\x00\\xba\\x02\\x00\\x00\\x1a\\x00\\x08\\x01xl/_rels/workbook.xml.rels \\xa2\\x04\\x01(\\xa0\\x00\\x01\\x00\\x00\\x00\\x00\\x00\\x00\\x00\\x00\\x00\\x00\\x00\\x00\\x00\\x00\\x00\\x00\\x00\\x00\\x00\\x00\\x00\\x00\\x00\\x00\\x00\\x00\\x00\\x00\\x00\\x00\\x00\\x00\\x00\\x00\\x00\\x00\\x00\\x00\\x00\\x00\\x00\\x00\\x00\\x00\\x00\\x00\\x00\\x00\\x00\\x00\\x00\\x00\\x00\\x00\\x00\\x00\\x00\\x00\\x00\\x00\\x00\\x00\\x00\\x00\\x00\\x00\\x00\\x00\\x00\\x00\\x00\\x00\\x00\\x00\\x00\\x00\\x00\\x00\\x00\\x00\\x00\\x00\\x00\\x00\\x00\\x00\\x00\\x00\\x00\\x00\\x00\\x00\\x00\\x00\\x00\\x00\\x00\\x00\\x00\\x00\\x00\\x00\\x00\\x00\\x00\\x00\\x00\\x00\\x00\\x00\\x00\\x00\\x00\\x00\\x00\\x00\\x00\\x00\\x00\\x00\\x00\\x00\\x00\\x00\\x00\\x00\\x00\\x00\\x00\\x00\\x00\\x00\\x00\\x00\\x00\\x00\\x00\\x00\\x00\\x00\\x00\\x00\\x00\\x00\\x00\\x00\\x00\\x00\\x00\\x00\\x00\\x00\\x00\\x00\\x00\\x00\\x00\\x00\\x00\\x00\\x00\\x00\\x00\\x00\\x00\\x00\\x00\\x00\\x00\\x00\\x00\\x00\\x00\\x00\\x00\\x00\\x00\\x00\\x00\\x00\\x00\\x00\\x00\\x00\\x00\\x00\\x00\\x00\\x00\\x00\\x00\\x00\\x00\\x00\\x00\\x00\\x00\\x00\\x00\\x00\\x00\\x00\\x00\\x00\\x00\\x00\\x00\\x00\\x00\\x00\\x00\\x00\\x00\\x00\\x00\\x00\\x00\\x00\\x00\\x00\\x00\\x00\\x00\\x00\\x00\\x00\\x00\\x00\\x00\\x00\\x00\\x00\\x00\\x00\\x00\\x00\\x00\\x00\\x00\\x00\\x00\\x00\\x00\\x00\\x00\\x00\\x00\\x00\\x00\\x00\\x00\\x00\\x00\\x00\\x00\\x00\\xacRMK\\xc40\\x10\\xbd\\x0b\\xfe\\x870w\\x9bv\\x15\\x11\\xd9t/\"\\xecU\\xeb\\x0f\\x08\\xc9\\xb4)\\xdb&!3~\\xf4\\xdf\\x1b*\\xba]X\\xd6K/\\x03o\\x86y\\xef\\xcd\\xc7v\\xf75\\x0e\\xe2\\x03\\x13\\xf5\\xc1+\\xa8\\x8a\\x12\\x04z\\x13l\\xef;\\x05o\\xcd\\xf3\\xcd\\x03\\x08b\\xed\\xad\\x1e\\x82G\\x05\\x13\\x12\\xec\\xea\\xeb\\xab\\xed\\x0b\\x0e\\x9as\\x13\\xb9>\\x92\\xc8,\\x9e\\x148\\xe6\\xf8(%\\x19\\x87\\xa3\\xa6\"D\\xf4\\xb9\\xd2\\x864j\\xce0u2js\\xd0\\x1d\\xcaMY\\xde\\xcb\\xb4\\xe4\\x80\\xfa\\x84S\\xec\\xad\\x82\\xb4\\xb7\\xb7 \\x9a)f\\xe5\\xff\\xb9C\\xdb\\xf6\\x06\\x9f\\x82y\\x1f\\xd1\\xf3\\x19\\tI<\\ry\\x00\\xd1\\xe8\\xd4!+\\xf8\\xc1E\\xf6\\x08\\xf2\\xbc\\xfcfMy\\xcek\\xc1\\xa3\\xfa\\x0c\\xe5\\x1c\\xabK\\x1e\\xaa5=|\\x86t \\x87\\xc8G\\x1f\\x7f)\\x92s\\xe5\\xa2\\x99\\xbbU\\xef\\xe1tB\\xfb\\xca)\\xbf\\xdb\\xf2,\\xcb\\xf4\\xeff\\xe4\\xc9\\xc7\\xd5\\xdf\\x00\\x00\\x00\\xff\\xff\\x03\\x00PK\\x03\\x04\\x14\\x00\\x06\\x00\\x08\\x00\\x00\\x00!\\x00\\xe9\\xd3&\\xfb\\xf3\\x0e\\x00\\x00`/\\x00\\x00\\x18\\x00\\x00\\x00xl/worksheets/sheet1.xml\\x00\\x00\\x00\\xff\\xff\\x00\\x00\\x00\\xff\\xff\\x9c\\x93\\xdb\\x8e\\x9b0\\x10\\x86\\xef+\\xf5\\x1d,\\xdf\\x07c6DY\\x04Y\\xf5\\xa0U\\xf7\\xae\\xea\\xf1\\xda1C\\xb0\\xe2\\x03\\xb5M\\x92U\\xd5w\\xef\\x00\\x1bR)\\xaa\\x14-\\x82\\xb1\\xf1x\\xbe\\x7f\\x06\\x0f\\xe5\\xc3\\xc9hr\\x00\\x1f\\x94\\xb3\\x15\\xe5IJ\\tX\\xe9jew\\x15\\xfd\\xfe\\xedq\\xb1\\xa6$Dak\\xa1\\x9d\\x85\\x8a>C\\xa0\\x0f\\x9b\\xb7o\\xca\\xa3\\xf3\\xfb\\xd0\\x02D\\x82\\x04\\x1b*\\xda\\xc6\\xd8\\x15\\x8c\\x05\\xd9\\x82\\x11!q\\x1dX\\xf44\\xce\\x1b\\x11\\xf1\\xd5\\xefX\\xe8<\\x88z\\x0c2\\x9aei\\xbabF(K\\'B\\xe1oa\\xb8\\xa6Q\\x12>:\\xd9\\x1b\\xb0q\\x82x\\xd0\"b\\xfe\\xa1U]8\\xd3\\x8c\\xbc\\x05g\\x84\\xdf\\xf7\\xddB:\\xd3!b\\xab\\xb4\\x8a\\xcf#\\x94\\x12#\\x8b\\xa7\\x9du^l5\\xd6}\\xe2K!\\xc9\\xc9\\xe3\\x9d\\xe1sw\\x96\\x19\\xd7\\xaf\\x94\\x8c\\x92\\xde\\x05\\xd7\\xc4\\x04\\xc9l\\xca\\xf9\\xba\\xfc{v\\xcf\\x84\\x9cI\\xd7\\xf5\\xdf\\x84\\xe1K\\xe6\\xe1\\xa0\\x86\\x03\\xbc\\xa0\\xb2\\xd7\\xa5\\xc4\\xf3\\x99\\x95]`w\\xaf\\x84\\xadf\\xd8\\xf0\\xb9|\\xd1\\xab\\xba\\xa2\\xbf\\xd3\\x97k\\x81#\\x1fLz1g\\xdf\\x1f\\xba)k\\x85\\'<TE<4\\x15}\\xc7\\x8b\\xf7<\\xe5\\x94m\\xca\\xb1\\x83~(8\\x86\\x7f\\xe6$\\x8a\\xedW\\xd0 #\\xa0\\n\\xa7dh\\xd0\\xads\\xfba\\xe3\\x13.\\xa5\\xc8\\x0c\\xe3\\x86\\x81)dT\\x07\\xf8\\x00Z#\\x1ak\\r\\xbf&\\x95lVa\\xb3\\xcc\\xa6\\xbc\\xcc\\xcf\\x92\\x8fc_\\x7f\\xf6\\xa4\\x86F\\xf4:~q\\xc7O\\xa0vmD\\xed|HR:\\x8d{\\xd1\\x12\\xa3\\x86?\\x0b\\x1bJ\\x9c\\xa6\\xc4T\\x1d\\xdb\\x8afi\\x92\\xads\\x9e\\xaf\\xb2\\x9c\\x12\\xd9\\x87\\xe8\\xcc\\xcf\\xc93\\x169Gbrc$\\x8e\\xc7\\x17\\xff:\\xe1\\xcb\\xf4?ql\\x14\\xfe\\x0b\\x00\\x00\\xff\\xff\\x00\\x00\\x00\\xff\\xfft\\x9ak\\x8e%\\xb7\\r\\x85\\xb7b\\xcc\\x02j\\xf4~\\x04\\xed\\x06bx#\\x03\\xc3\\x80\\x7f%\\x81g0\\xde~>J\\xec\\xdb\\xf7\\x96H\\x18\\x81\\x1d5o\\xb1$\\x92\\x87\\x87G\\xf5\\xf6\\xfd\\xaf?\\xff\\xfc\\xf1\\xfb\\xb7\\x1f\\xdf\\xde\\xdf\\xfe\\xfe\\xef?\\xbf\\xfc\\xfd\\xeb\\x97\\xf8\\xe5\\x97\\xef\\xff\\xfb\\xf6\\x9f\\xef\\xfc\\xd7\\xbf\\xd2\\x97\\xf7\\xb7?d\\xf1\\xdf\\xac\\xfe\\xf8\\xf5\\xcbw\\xfe\\xff\\xcf\\xf7\\xf0\\xf6\\xf5\\xe7\\xfb\\xdb\\xd7?\\xf4o\\xbf=\\xff->\\xfe\\xf6\\x95\\xe7=\\x1e\\x9a\\xcc\\x87\\xca\\xe3\\x7f\\xbe\\xe7t\\xd5\\x90r\\xa9\\xa9\\xcdRs\\x08\\xe9\\xf6|5\\x8bW\\x0f=\\x84:J\\xabm\\x8e9mW\\xd9t\\x95\\x97\\xab\\x9a\\xaf\\x92\\xda\\x08%\\xe4\\x9cz\\x99s\\xdc\\\\m\\xb36\\xae\\xde{\\x9du\\x8e\\xd8\\xf2\\x18\\xb3\\xd9\\xae\\x8a\\xe9\\xaa,W-^\\xec%\\xd7\\x11Rm\\xb9\\xe1\\xf1\\xe6J\\xcd\\xd8|Ky\\xa44;\\xbb\\x1fOf/\\x07XMWu\\xb9*\\xfd*\\x1d\\'\\xb3\\xe5\\xd2G\\x9dO\\'\\xb3\\x82\\xf7\\xdb6\\xeb\\xbcQi-\\xa7\\x94sm\\xbd\\x07gW\\xcdt\\xd5\\xf6\\x01\\xcek\\xc4\\x9cB\\x1fm\\xd6(/}\\xdb\\xd56\\x1b\\xfdJ9\\xccTc\\xcem\\xf44?7\\xff\\xb2\\xabn\\xba\\xea\\xdbU\\xbdbIq\\x8c\\x12\\xf3,\\xb9\\x1f\\xbb\\xdaf}\\\\)\\xc6\\x1aG\";\\xe6L\\xde\\x01\\x0e\\xd3\\xd5\\xd8\\xae\\x92<\\xa3\\xcf\\xd6fJ\\xb1\\x84\\xf0\\x99\\xc5\\xfb\\x00\\xb7Y\\x9fW+q\\xf6\\x1c\\xca\\x1c\\x81\\x13\\xf8\\xcc\\x9e\\x97]M\\xd3\\xd5\\xdc\\xc9>\\xaf4gm\\xb8*9\\x92\\xcewW\\xdb\\xac\\xce+\\xf6X\\xc6\\xcc\\x9c\\x00G\\xfdd\\xf6\\xe2*\\x06\\xbbZ\\xc3N\\x8cq\\xc5PC\\x89m\\xc6\\xde\\xc6\\xbd\\xae\\xf8\\xb1\\xd4_\\xafW\\xce1\\x15\\x89fhN\\xa4\\xa2\\x03\\x0b\\xf1\\xe3\\x00ke/\\xa5\\x94\\xd43\\xb1\\xba\\xa7\\x05?_\\xae\\xe2E}\\x8f>\\xc7h\\x83\\xa2\\xf7\\n+\\xdax\\xc1\\xb2<\\xa5\\xd4k\\x87\\x01\\x7fD\\xe39\\x0e;\\\\jW\\xc9 \\xa0\\xa2s\\x90R\\xcb\\xd1=D\\x1b2\\xa2bF\\xb9r\\x05\\x06\\xca\\x18$<`p\\xecm\\xdb\\x8dD\\x15\\x92\\xad\\xadW\\x90\\xa5\\xcfPm\\xd0\\x886j\\xb0\\xbc\\xf6Vx\\xe7B\\x82\\x95\\xc9\\x8b\\xe7|\\x80\\xa1\\xda\\xb5tq\\x903\\xe5TjO>nD\\x1b8X\\x16o\\x95\\x04i\\xa3P9\\xfc\\xabv\\xe3$\\x15:H\\x91\\x99F\\x0f%\\x01/\\xc5A\\xdeh#\\x07\\xcb\\xcbW\\xbbz\\xea)\\x8cP{\\x98\\xad\\x9e\\xe7\\xa8\\xd8\\x11\\xaf\\x92[\\x9c)\\xd61\\x04\\xce\\x9c*\\x8b6x\\xb0\\xbc\\xceq\\\\\\xb3\\xf2\\x80A\\xa9\\x85i\\xe5\\xc8\\xb6k\\x81\\xb7\\xca-\\xa4RB\\xeby\\xba9b\\xe3G\\xdc\\xc8P\\xca\\x05\\xcc\\xc5\\t\\x92S\\xb4\\xc4\\xe5\\xc8\\x91mG\\x8e\\x10\\xb3\\x1ar\\xc7\\xae\\xe6\\xeez\\xb3!$np\\xe0\\x9d)\\xd5L#\\x13|\\xcd\\xe5\\xcc\\x91m7\\xfbE)\\xd2\\xbdFK\\x91c\\x08\\x9fo\\xf5\\xda\\x9cm\\x10I\\n\"\\xf5j`\\x10\\x08\\x0c\\x8e\\xd7z\\xe2\\xf0\\x87\\xdd\\xb8\\xc8\\xa4X\\xc1\\x92\\x9e\\x17\\x1a8T\\xc0F\\x92\\xb4\\x11\"\\xf3\\x14r1vN\\xa7\\x94\\xda\\x0e|T\\xbb\\xda\\xae\\xc1\\x0b\\xc5\\xcc\\xabq\\x10\\xb4r\\xc7\\x9b\\xc3<6\\x92\\xb4v\\xc5!M\\xbe\\x11|\\xf8\\xc7\\xe9m\\xdb\\x8d\\x8c7R\\x89\\xf6Y\\xc8\\x15\\xb7u&\\x1bIX\\x96\\x9cl\\x82[-\\xd4\\xd8\\x8b\\x04\\xeed\\x1fj\\x17\\xe3\\xb8\\x80\\xab\\xc49B\\x1e\\xd2\\'l\\xbfF\\xcd\\xc6\\x91\\xa48\\x02\\'\\x00\\xaf\\xe8R\\xd2\\xab\\xbb\\x11\\xb5mW\\xe9\\xd44\\xcf8KK\\x9c#\\x87\\xe1\\x9c\\xa3\\x8d#I\\x19\\x08\\xd4\\x02\\x06\\x02\\xb7bo\\xf4\\xab\\xa3W\\xab]\\x05\\xffiE\\xd4\\x1ay\\x99\\x93\\xd3k\\x92\\x8d#,/\\x1c\\x89\\xe4\\x19\\xaf\\xdc@X8\\xcf\\x99\\xfdj\\'mm\\x84\\x06t\\xb7J{\\xf3|\\xd9(\\x92\\x94\\x83L*(@\\xceB\\x8cT\\xf5s\\x1b\\xde\\x9dF\\xedz\\xb9z\\xab\\x1c@\\xa0_\\x13[\\x8f\\x84$\\x1bEX^;\\xa3^c\\x08!\\x97<`rF~l\\xbbI\\x1eQ`5\\xc1V\\xe850\\t\\'f6\\x8a$E\\x91L]\\xf3\\xce\\x91\\xf8\\x83Ewz\\xaaV\\xf8\\x82\\x17d\\n\\x84\\x92\\xac\\xb8t\\xce1\\xdb\\x18\\xc2\\xf2Bc\\xb0?w@]\\x02O\\x9b9\\xeaL\\xed`Xl\\x0b$\\x86\\xb1T\\x0e\\xd4\\xc3\\xc7lc\\x08\\xcb\\xeb\\x1c\\xc3\\xc5\\xbe:\\xaf\\\\F-\\x10\\xdd\\xfb\\xde\\xd4\\x8e\\xaa.\\xc2e\\x85f\\x92\\x8c.\\x9f\\xcb6\\x86\\xb0\\xbc\\xbcA\\x1e\\x13\\xc5\\xdc\\xc2X\\x07t`\\xbf\\xda\\xb5\\x0c\\x8f\\x80\\xfa\\x04\\xf0\\x11~\\xe0\\xd4Yv\\xc6\\x97\\x8d \\xb92-\\xf4\\x01\\x87b[\\x8cA\\xa7\\xafmW\\xe8\\xa1\\x11\\xae\"\\x13\\x08\\x1c\\xd3E\\xc7lc\\x08\\xcb+j0\\x1a&\\x17\\xe2E\\xc1\\xb2\\xb7\\xa3\\xaa\\xd5\\xae72\\xa9g\\xf1H\\x8fy\\xa1\\xcf/\\x88\\x95m\\x0ca\\xf9\\xc1EJ-Rjt\\xff\\xe7Ih\\xd7\\x9a\\xdaMrI\\xb2c\\xa1\\rl\\xc2\\x9d\\x03m\\x14\\xc9\\x8a\"\\x9d\\xa1\\x13\\xbaJRV\\xde\\xbc\\x9d\\'\\xb9\\xed\\xa8\\xec \\x13\\x08oE\\r\\xa42\\x1dV\\x97m\\x1ca\\xf9\\x83\\xb1r\\x849@\\xd5r\\x9c\\xe4\\xc0}\\xeeT6\\xd2.8\\x8b\\xd0hr2\\xd1\\xd5<o6\\x8e\\xe4\\x8d\\x0f\\x8c\\x9e4\\xfd$x\\x0e\\xc5\\xa6\\t\\x1c\\xdet\\x9e\\xe9\\x9c\\xe4(#\\x95H\\x83\\x90\\xb1\\xc4\\x99\\xa8m\\x1c\\xc9:\\xd1\\xe4\\x0b\\x825\\xa4\\xebS\\xb6\\xf9y.\\xd7\\xb8\\xe9H\\x03\\xd3\\x8a\\x93\\xed\\xf1F9r\\x08N\\x05\\x14\\x1bIX\\x96\\x93\\xccMr2\\x04\\xa6\\xcf\\x98\\x19\"\\xeeC\\xf5\\xb6\\x82\\x1d3\\xd0\\xc03G\\x1c\\xd4\\xf73\\x02\\xbcdd\\xb1q\\x84\\xe5\\xe5\\xab_\\xb0\\x82V\\xe9h\\xd4v\\xa0\\xad\\xdd\\xbdm;\\xf8\\xd8\\x88\\xe4\\x06)Ih\\x13\\x13\\xa2#\\x17\\xd88Rt\\xaa)\\xa0\\x16\\x84gp\\x96\\t2rz{\\xe0\\r\\xa3\\x1c\\xed\\x13P\\xcep \\xaf\\xd7\\x14\\x1bIX^\\x19\\t\\x1a13\\x8f\\xd4\\x84A\\xa1\\xa7\\x1c{\\xd3\\xe9\\x07*\\x020&\\x98\\x1dUGU:\\xbd\\xa68Z\\x88\\xb2\\x8cp\\x85EyE} \\x03\\x0e\\xdd\\x85\\x9f\\xcb[\\xc1\\x8f\\xe9\\xea\\x102\\x80\\x1b\\xad\\x871\\xdb9I\\x1bI\\x8a\\xb2\\x11ak\\xf4\\x90\\xd4\\xd0\\x94\"hy\\x9f\\xb1\\xd5\\x8e:)l,0\\xcc\\x17\\xe8\\x18!t\\xbc\\xd9HR6B\\x90ks\\xc2z@>:$a;Nr\\xdb!R\\\\L\\x19\\xb1.\\x94\\xf4G\\xfab#\\t\\xcb+\\'\\xd3\\x85t\\xc0\\xfbv&\\xd2\\xd6\\x9fg\\xda]mj\\xc7\\x8cL\\xfa\\xcb\\x00\\x84\\xda\\x83\\x94\\xe5\\xa1d\\xb1\\x91\\x84\\xe5\\x95%\\x81\\xf9\\xb0\\x11/\\x19\\xda\\xa5\\x95\\xdc%\\x04\\xb5\\xab\\x0b%\\x03\\xcdVp\\'?\\xf7\\xa5\\xd7z\\xb3\\x91\\xa4(Bda\\x91\\x01\\xe5-Gf\\xb1OyJw\\xb6\\xad\\xd0\\x96\\x18A\\x89l\\xaf\\x83V\\x91\\xbd\\x1c\\xa96\\x8e\\xb0\\xbc\\xce\\x91\\x1c\\xa1\\x83D:1\\xe07N\\x8cT\\xbb\\x9a\\x98\\x0f+\\xe3\\xb8\\x1c\"\\xd4\\xccS,\\xaa\\x8d$,/\\xe6\\x0f?\\x04\\x87\\x00\\xacFZ\\x02~\\xf7\\xbd\\xa9\\xdd\\x94\\x13h\\xf0\\x7fJ\\xad\\xb1=wo6\\x92TUJ\\x99\\xea\\xf9)<\\x8a\\x0e\\x90\\x12T\\xfb\\x86[j7Vt9G\\xda\\xa0\\xd0\\\\\\x8f\\xdbU\\x1bIX^9\\x02n1\\xa6\\x08\\xd7.\\x14\\xdc\\x99\\x91j\\xc7\\xf4\\xc3\\xdf:e@^\\xd2J\\xdd\\xbd\\xd9HR\\x95\\x93\\xc0\\xedhT`$C\\x00\\xb3\\xd1\\xd1\\xb7\\xd5\\x0eo\\xa2\\xab\\x06@\\x00\\xb57 \\xd9\\xd9\\xb5]\\x1da\\xf51\\xd7\\xa0X@%\\x11L\\x85\\xdf\\x1cH\\xc2\\xcfW|)m\\xc6~\\t\\x9bL\\x0b\\xdd\\xeb\\xa4\\xd5F\\x12\\x96\\x17\\x03\\x8ap\\x8d\\xb1\\xeaZ\\xd0\\xfd\\xe4\\xadj\\xd7\\x85\\xb7r\\xd6\\x119\\x17\\xfd\\xe7\\x19\\xdf^5c\\x1bI\\xeaC_e4\\xa4\\x91\\x82&\\xa2#\\x1d\\xb5\\xadv\\xc8\\xc6\\x08\\xb0H7\\xa3\\x0e\\x84\\x80gm\\xe3\\xd5\\x9b\\x8d$U\\x91\\x84\\xc9\\x0fM\\x9d\\xacFH\\x9b\\xd5\\xa8\\xb7\\x87\\xc6\\n\\x0e\\xd3\\xdf\\xda\\xc8\\x94\\x9d\\x83\\xff\\xd5\\xc6\\x11\\x96W4\\xe0\\xad\\xcc\\xb3\\x802zS\\x9bgoS\\xbb\\x01\\xdbJ\\xb0\\xb2\\x01\\xbde\\xdeB\\x94\\xb2s\\xa4\\xd9H\\xc2\\xf2\\xca\\x7f\\x14\\xdd\\xc0%\\x01eD\\xec\\xa1&w\\xb6\\xa5v\\x03\\x0c`@\\x86\\xf9s\\xec\\xa9%/#\\x9b\\x8d$,/oDC\\xca\\x9a\\x01\\x18\\xc6}\\xe0\\x88Z!\\x1f3k\\x88\\xc2\\nw\\xe1\\x7f\\x1e#i6\\x8e\\xb0\\xfc\\xe1\\x0bd\\x8c\\r\\x11\\x19\\x86<\\x8e\\xecW;\\xfa(4\\x92\\xf6\\xc0\\xe8F\\xe2>\\xcf\\t/\\x19\\xd2l\\x1caye?hD\\xf2\\x0f\\xe4E\\xa4\\xd6pj1j\\xd7\\xb8\\x82\\x80\\xb6\\xa3jW n\\xd2\\xbd\\x9d\\xa8\\xd98\\xd2\\x94\\x91$\\xf2\\x91\\xc0\\xa3\\x8c\\x91\\xfcD\\xe3\\x88\\x9a2\\x92\\x06\\xbb%\\x1d\\xa9\\xfd\\xca\\xc8E\\xbfq\\xbc\\xd98\\xd2t\\xb6ao\\xa43\\xd3(\\xe1\\xa0\\x8anx\\xfca\\x85\\xe8\\x0f\\x00\\xa0\\xb4\\x8282P:\\x97i\\xcd\\xb9\\xa1\\xd9(\\x92\\x99\\xeb\\x01t\\x0e\\x10\\n4\\x8d\\xc9\\x86\\x9f\\xaf*\\xe1\\x1cq\\x82\\xf8\\x05\\xa1N\\x1c\\xa8\\xc3~\\x9a\\x8d\",\\xaf>:a\\xad\\x0c\\xb5H\\xe3i\\x86\\x83\\x8f\\xab\\x15\\xfa\\xa8\\xe4\\xe1\\xa4\\x072G\\x15\\x17\\xfb\\x9b\\x8d!,\\xaf\\x0cA\\xadc\\xa0\\x85\\xd3\\xa0\\x10J\\xb9\\x1d1S\\x95\\x15}\\x84lE\\xf5\\x12=\\x9ea\\xd2\\x99k\\x9a\\x8d\",/o\\xa81\\xe4\\x05\\x0c\\x92\\xbbB.\\xe8\\xce\\xecW\\x95\\x95N\\x03\\x15g\\x16\\x01\\x92\\x1b\\xed\\xc2\\xf1\\xd6m\\x14ayE\\x03M\\x97\\xee\\x11K\\x9eh\\t\\xfd\\x9c\\xa2\\xd4\\xaecW\\xe3\\xcc\\x10\\xc9\\xc9\\xc5\\x86\\xab\\x90t\\x1bEX^QC\\xd3\\x15\\xec\\x97\\xbbMr\\xfa\\x9c~\\xd5n\\xb1\\x1f\\x19\\xed\\'2\\x00\\xaa\\x85\\x97\\xfd\\xdd\\xc6\\x11\\x96\\x977\\xd4AbF*\\xc2\\xec3\\x8d\\xf2\\x9e\\xffjW\\x83\\xdc2\\xd0\\xf7\\xa8\\x15\\xd1\\x89<\\xd4\\xea6\\x8e\\xb0\\xbc\\xe2F\\xfe\\x8b\\xe4\\xcf\\xf8\\x0b\\x8b\\x84\\x8f\\xdf\\xb5x\\xb5C\\x8f!\\x13\\xa1\\x8f\\xf0\\xcdFm\\xbb{\\xb3q\\xa4+\\x1fA\\xfb\\xa0\\xe3S\\xd4\\xc0\\x16\\xf3\\xed\\xd1E\\xd5\\xae\\xa3\\x12\\x15\\x98$\\x87\\r\\t\\xa4V\\x1c>\\xd2m\\x1cay!r\\x06!\\x84\\xad\\x82Z2q\\xdepD\\xad\\xd0t\\x91~\\xb9\\x9eEjC\\xda}VH_o_m\\x1c\\xe9\\xaa|\\x10\\r\\xc4n\\x0e\\x87,+\\xf3\\x9c\\xa2\\xd4.\\x86BJ\\xca$R\\xc1\\xb7\\x97{\\xdaWo\\xcee\\xaf*$\\x85\\x9aM(h@?\\x8f9?\\x02\\xe8\\xdb\\x8e\\x9eM\\xd4\\x02x\\r\\x15A\\x97\\xf5.\\xb1\\xbb\\x8d$,km\\xb3\\'DO\\xe0Dn\\x0f\\x0e$Q\\xbb\\xc9\\x84(\\xea9\\xba\\xd6\\x92\\xa5\\xbc\\x1b\\x94n#\\t\\xcb+\\xff\\xdb\\xc5\\xf1\\x85.iI\\xdc\\x8c\\xfcW\\xc4\\x81E2\\xf9 \\x01\\xc8\\x85\\xcdK\\x9d\\xbc\\x9c\\xe4\\xb0\\x91\\x84\\xe5\\xb5\\xb7z\\xc9\\x15\\x1b{\\x03\\x97a@\\xb7\\x1cQ+\\x94V\\xe4U\\x90\\x1f\\x1c\\xa0\\xd8\\xaa\\x97\\x8f\\xc3\\xc6\\x11\\x96\\xd7\\xce\\xe4\\x96M\\x04B\\xa6{\\xe8\\x9dqq\\xae\\xac\\x05\\xfc\\xa7:\\xb8c\\xe6\\x9f\\xa5\\xcc\\xda]t\\xd88\\xc2\\xb2\\xe2\\xbf4\\x9aHsK2\\xb7\\x1fQS;\\xe6\\x1aT\\xdd\\xcaY2\\xae\\xc9w\\x01\\x0e\\xaf\\x1b6\\x8e\\xb0\\xac\\xde\\xc0tf>F6\\xc6\\rZ\\xe5\\xfd$\\xf5\\xde\\x97\\x9a\\xe4\\x98\\xe5\\xca\\x17N\\xc7m\\x9cS\\xd9\\xc3\\xc6\\x11\\x96\\xd7Ir\\xcb\\xbcn\\xe1\\xe5\\x8e5B\\xa1\\x8e\\xb8)o\\xa9r_\\t\\xa3\\x83iRm\\xce\\xad\\xd7\\xb0Q\\x84\\xe5\\xb53Tv^\\x97y&\\xa2Y!\\x12\\xde\\xfb\\xa8\\xdau\\xf4/\\xa6\\x9e\\x01\\x94\\x80\\xa4\\xc2[\\x9d\\xa8\\xd982\\x1eJ+mxI\\xe4\\xf4Qh\\xc9]CP\\xbb)\\xda\\x7fD\\xf8DnENqg\\xdfa\\xe3\\x08\\xcbko\\x80\\x11\\x92\\x87\\xdcUWn\\xd0\\xcf\\xdb!\\xb5#\\xff\\xa1t4l\"\\xd7\\xb8j\\xf1\\xf4\\x91\\xe1|7\\xa28\\xb2&6`\\x9f{3\\xe2\\x7f|6\\xa2z,\\xb5\\x06i\\xa1\\xabs\\x90\\x11\\xb4\\xf12\\xc4F\\x91\\xf1\\xd0O\\xd9\\xd9\\xc8\\xf2%\\x02\\xe7xN\\x87j\\x07?\\xa6\\xcbp\\xc7\\x8c\\xc8*\\xba\\x85\\xe7m\\xda(\\xc2\\xf2\\xea4\\x9c#\\x9f\\xc4\\x10\\nF$\\x8a\\xe0P\\xb5\\xd4\\x8eYT\\xb8\\x18\\x1c\\x12\\xa1-v\\x87CN\\x1bEXV\\x14\\xe1\\xb3.!\\xfd\\xc8\\xf9\\xdc\\xc4\\x1e\\xf9\\xa8v\\xcc\\x19\\xe0\\x15\\xe3*w\\xc3\\x88\\x1b.\\x17\\x9f6\\x8a\\xb0\\xbc\\xbc\\xa1\\xd7\\x11\\x02b.\\xd7\\x95\\xe4\\xd9\\xbd\\xd2\\xd4\\xaeu>\\xc1\\xe1\\xfe\\x10A\\x066\\xc6\\x91:Q\\x9b6\\x8a\\xb0\\xfc\\xc1F \\xe1yJ\\x87\\x94\\x8b\\xd1\\xbb:\\xa8v\\x03F\\x06V\\xd1\\xd6\\xca\\xfa\\x90\\xc6\\xcb\\xc7i\\xa3\\x08\\xcb\\xe2M>\\\\\\x83\\xcbd\\x993\\xe5\\xce\\xff<\\xc9mGf\\\\\\\\\\x0e\\xf1\\xc9\\x02\\xea\\xe0\\x8c\\xceL3m\\x14ayeH[\\xdfx\\x89\\xe8M\\xe4\\xe9\\xc8\\xf7\\xbaV\\xbb\\xc9\\xec\\x83$(:\\n\\x18\\xca\\'\\x16\\x0e?\\x9e6\\x8a\\xb0\\xac;\\xe3\\xe2\\x04\\xe5\\x1fE?UnR>\\x9f\\xb2\\xd5A\\xb5\\xe3\\x9b\\x07z\\xecH$\\x07\\xd3(=\\xd4\\xf3f\\xa3\\xc8T\\x14A\\xaf\\x86\\xf0t\\x81s\\xee\\x8eOMK\\xed\\x86|\\xe4\\xc7\\xb6\\xe0d\\x98{\\xael\\x08\\x99*\\x8c \\x1f \\xaf\\x88.\\x82\\x12\\'\\x0f\\xbb\\xb5\\x19\\xb5\\x83@\\nx\\xa0\\xf7\\x10\\xda\\x88\\x80\\xe6\\x80\\xf1t\\xbe>{\\x80\\x08\\x1a&*+S\\x06e{^D\\xf1s9n\\xd2Q$!\\xda:\\x14\\x99\\x0f\\x18\\xbd\\xe1\\x90\\xebj\\xe7\\x03\\xb4\\xcf/\\xd0\\xc8\\x8fu\\xeb\\x83\\xacs~\\x86 \\x0fX\\xf1%\\x9b\\xe4v\\x8dVA\\xcc\\xe0\\x9dN\\xb5\\x11\\n\\xc7\\xe1\\xc6\\x92\\x84\\xca\\xc8\\xc5\\x99\\xccb\"7\\xdd;\\x9b\\xfc\\\\\\xcb\\x92\\xabF\\xbe\\x1e\\xa0\\x05\\xc2\\x7f\\x10Jn\\xad\\xed\\xeb\\xe7\\x87\\xb1\\xff\\x07\\x00\\x00\\xff\\xff\\x00\\x00\\x00\\xff\\xff\\xb2)HLO\\xf5M,J\\xcf\\xcc+V\\xc8IM+\\xb1U2\\xd03WR(\\xcaL\\xcf\\x80\\xb1K\\xf2\\x0b\\xc0\\xa2\\xa6J\\nI\\xf9%%\\xf9\\xb90^FjbJj\\x11\\x88g\\xac\\xa4\\x90\\x96\\x9f_\\x02\\xe3\\xe8\\xdb\\xd9\\xe8\\x97\\xe7\\x17e\\x17g\\xa4\\xa6\\x96\\xd8\\x01\\x00\\x00\\x00\\xff\\xff\\x03\\x00PK\\x03\\x04\\x14\\x00\\x06\\x00\\x08\\x00\\x00\\x00!\\x00\\xc1\\x17\\x10\\xbeN\\x07\\x00\\x00\\xc6 \\x00\\x00\\x13\\x00\\x00\\x00xl/theme/theme1.xml\\xecY\\xcd\\x8b\\x1b7\\x14\\xbf\\x17\\xfa?\\x0csw\\xfc5\\xe3\\x8f%\\xde\\xe0\\xcfl\\x93\\xdd$d\\x9d\\x94\\x1c\\xb5\\xb6\\xecQV32\\x92\\xbc\\x1b\\x13\\x02%9\\xf5R(\\xa4\\xa5\\x97Bo=\\x94\\xd2@\\x03\\r\\xbd\\xf4\\x8f\\t$\\xb4\\xe9\\x1f\\xd1\\'\\xcd\\xd8#\\xad\\xe5$\\x9blJZv\\r\\x8bG\\xfe\\xbd\\xa7\\xa7\\xf7\\x9e~z\\xf3t\\xf1\\xd2\\xbd\\x98zG\\x98\\x0b\\xc2\\x92\\x96_\\xbeP\\xf2=\\x9c\\x8c\\xd8\\x98$\\xd3\\x96\\x7fk8(4|OH\\x94\\x8c\\x11e\\tn\\xf9\\x0b,\\xfcK\\xdb\\x9f~r\\x11m\\xc9\\x08\\xc7\\xd8\\x03\\xf9Dl\\xa1\\x96\\x1fI9\\xdb*\\x16\\xc5\\x08\\x86\\x91\\xb8\\xc0f8\\x81\\xdf&\\x8c\\xc7H\\xc2#\\x9f\\x16\\xc7\\x1c\\x1d\\x83\\xde\\x98\\x16+\\xa5R\\xad\\x18#\\x92\\xf8^\\x82bP{}2!#\\xec\\r\\x95J\\x7f{\\xa9\\xbcO\\xe11\\x91B\\r\\x8c(\\xdfW\\xaa\\xb1%\\xa1\\xb1\\xe3\\xc3\\xb2B\\x88\\x85\\xe8R\\xee\\x1d!\\xda\\xf2a\\x9e1;\\x1e\\xe2{\\xd2\\xf7(\\x12\\x12~h\\xf9%\\xfd\\xe7\\x17\\xb7/\\x16\\xd1V&D\\xe5\\x06YCn\\xa0\\xff2\\xb9L`|X\\xd1s\\xf2\\xe9\\xc1j\\xd2 \\x08\\x83Z{\\xa5_\\x03\\xa8\\\\\\xc7\\xf5\\xeb\\xfdZ\\xbf\\xb6\\xd2\\xa7\\x01h4\\x82\\x95\\xa6\\xb6\\xd8:\\xeb\\x95n\\x90a\\rP\\xfa\\xd5\\xa1\\xbbW\\xefU\\xcb\\x16\\xde\\xd0_]\\xb3\\xb9\\x1d\\xaa\\x8f\\x85\\xd7\\xa0T\\x7f\\xb0\\x86\\x1f\\x0c\\xba\\xe0E\\x0b\\xafA)>\\\\\\xc3\\x87\\x9df\\xa7g\\xeb\\xd7\\xa0\\x14_[\\xc3\\xd7K\\xed^P\\xb7\\xf4kPDIr\\xb8\\x86.\\x85\\xb5jw\\xb9\\xda\\x15d\\xc2\\xe8\\x8e\\x13\\xde\\x0c\\x83A\\xbd\\x92)\\xcfQ\\x90\\r\\xab\\xecRSLX\"7\\xe5Z\\x8c\\xee2>\\x00\\x80\\x02R$I\\xe2\\xc9\\xc5\\x0cO\\xd0\\x08\\xb2\\xb8\\x8b(9\\xe0\\xc4\\xdb%\\xd3\\x08\\x12o\\x86\\x12&`\\xb8T)\\rJU\\xf8\\xaf>\\x81\\xfe\\xa6#\\x8a\\xb602\\xa4\\x95]`\\x89X\\x1bR\\xf6xb\\xc4\\xc9L\\xb6\\xfc+\\xa0\\xd57 /\\x9e={\\xfe\\xf0\\xe9\\xf3\\x87\\xbf=\\x7f\\xf4\\xe8\\xf9\\xc3_\\xb2\\xb9\\xb5*Kn\\x07%SS\\xee\\xd5\\x8f_\\xff\\xfd\\xfd\\x17\\xde_\\xbf\\xfe\\xf0\\xea\\xf17\\xe9\\xd4\\'\\xf1\\xc2\\xc4\\xbf\\xfc\\xf9\\xcb\\x97\\xbf\\xff\\xf1:\\xf5\\xb0\\xe2\\xdc\\x15/\\xbe}\\xf2\\xf2\\xe9\\x93\\x17\\xdf}\\xf5\\xe7O\\x8f\\x1d\\xda\\xdb\\x1c\\x1d\\x98\\xf0!\\x89\\xb1\\xf0\\xae\\xe1c\\xef&\\x8ba\\x81\\x0e\\xfb\\xf1\\x01?\\x9d\\xc40B\\xc4\\x92@\\x11\\xe8v\\xa8\\xee\\xcb\\xc8\\x02^[ \\xea\\xc2u\\xb0\\xed\\xc2\\xdb\\x1cX\\xc6\\x05\\xbc<\\xbfk\\xd9\\xba\\x1f\\xf1\\xb9$\\x8e\\x99\\xafF\\xb1\\x05\\xdcc\\x8cv\\x18w:\\xe0\\xaa\\x9a\\xcb\\xf0\\xf0p\\x9eL\\xdd\\x93\\xf3\\xb9\\x89\\xbb\\x89\\xd0\\x91k\\xee.J\\xac\\x00\\xf7\\xe73\\xa0W\\xe2R\\xd9\\x8d\\xb0e\\xe6\\r\\x8a\\x12\\x89\\xa68\\xc1\\xd2S\\xbf\\xb1C\\x8c\\x1d\\xab\\xbbC\\x88\\xe5\\xd7=2\\xe2L\\xb0\\x89\\xf4\\xee\\x10\\xaf\\x83\\x88\\xd3%Cr`%R.\\xb4Cb\\x88\\xcb\\xc2e \\x84\\xda\\xf2\\xcd\\xdem\\xaf\\xc3\\xa8k\\xd5=|d#a[ \\xea0~\\x88\\xa9\\xe5\\xc6\\xcbh.Q\\xecR9D15\\x1d\\xbe\\x8bd\\xe42r\\x7f\\xc1G&\\xae/$Dz\\x8a)\\xf3\\xfac,\\x84K\\xe6:\\x87\\xf5\\x1aA\\xbf\\n\\x0c\\xe3\\x0e\\xfb\\x1e]\\xc46\\x92Kr\\xe8\\xd2\\xb9\\x8b\\x183\\x91=v\\xd8\\x8dP<s\\xdaL\\x92\\xc8\\xc4~&\\x0e!E\\x91w\\x83I\\x17|\\x8f\\xd9;D=C\\x1cP\\xb21\\xdc\\xb7\\t\\xb6\\xc2\\xfdf\"\\xb8\\x05\\xe4j\\x9a\\x94\\'\\x88\\xfae\\xce\\x1d\\xb1\\xbc\\x8c\\x99\\xbd\\x1f\\x17t\\x82\\xb0\\x8be\\xda<\\xb6\\xd8\\xb5\\xcd\\x893;:\\xf3\\xa9\\x95\\xda\\xbb\\x18St\\x8c\\xc6\\x18{\\xb7>sX\\xd0a3\\xcb\\xe7\\xb9\\xd1W\"`\\x95\\x1d\\xecJ\\xac+\\xc8\\xceU\\xf5\\x9c`\\x01e\\x92\\xaak\\xd6)r\\x97\\x08+e\\xf7\\xf1\\x94m\\xb0goq\\x82x\\x16(\\x89\\x11\\xdf\\xa4\\xf9\\x1aD\\xddJ]8\\xe5\\x9cTz\\x9d\\x8e\\x0eM\\xe05\\x02\\xe5\\x1f\\xe4\\x8b\\xd3)\\xd7\\x05\\xe80\\x92\\xbb\\xbfI\\xeb\\x8d\\x08Yg\\x97z\\x16\\xee|]p+~o\\xb3\\xc7`_\\xde=\\xed\\xbe\\x04\\x19|j\\x19 \\xf6\\xb7\\xf6\\xcd\\x10Qk\\x82<a\\x86\\x08\\n\\x0c\\x17\\xdd\\x82\\x88\\x15\\xfe\\\\D\\x9d\\xabZl\\xee\\x94\\x9b\\xd8\\x9b6\\x0f\\x03\\x14FV\\xbd\\x13\\x93\\xe4\\x8d\\xc5\\xcf\\x89\\xb2\\'\\xfcw\\xca\\x1ew\\x01s\\x06\\x05\\x8f[\\xf1\\xfb\\x94:\\x9b(e\\xe7D\\x81\\xb3\\t\\xf7\\x1f,kzh\\x9e\\xdc\\xc0p\\x92\\xacs\\xd6yUs^\\xd5\\xf8\\xff\\xfb\\xaaf\\xd3^>\\xafe\\xcek\\x99\\xf3Z\\xc6\\xf5\\xf6\\xf5Aj\\x99\\xbc|\\x81\\xca&\\xef\\xf2\\xe8\\x9eO\\xbc\\xb1\\xe53!\\x94\\xee\\xcb\\x05\\xc5\\xbbBw}\\x04\\xbc\\xd1\\x8c\\x070\\xa8\\xdbQ\\xba\\'\\xb9j\\x01\\xce\"\\xf8\\x9a5\\x98,\\xdc\\x94#-\\xe3q&?\\'2\\xda\\x8f\\xd0\\x0cZCe\\xdd\\xc0\\x9c\\x8aL\\xf5Tx3&\\xa0c\\xa4\\x87u+\\x15\\x9f\\xd0\\xad\\xfbN\\xf3x\\x8f\\x8d\\xd3Ng\\xb9\\xac\\xba\\x9a\\xa9\\x0b\\x05\\x92\\xf9x)\\\\\\x8dC\\x97J\\xa6\\xe8Z=\\xef\\xde\\xad\\xd4\\xeb~\\xe8TwY\\x97\\x06(\\xd9\\xd3\\x18aLf\\x1bQu\\x18Q_\\x0eB\\x14^g\\x84^\\xd9\\x99X\\xd1tX\\xd1P\\xea\\x97\\xa1ZFq\\xe5\\n0m\\x15\\x15x\\xe5\\xf6\\xe0E\\xbd\\xe5\\x87A\\xdaA\\x86f\\x1c\\x94\\xe7c\\x15\\xa7\\xb4\\x99\\xbc\\x8c\\xae\\n\\xce\\x99Fz\\x933\\xa9\\x99\\x01Pb/3 \\x8ftS\\xd9\\xbaqyjui\\xaa\\xbdE\\xa4-#\\x8ct\\xb3\\x8d0\\xd20\\x82\\x17\\xe1,;\\xcd\\x96\\xfbY\\xc6\\xba\\x99\\x87\\xd42O\\xb9b\\xb9\\x1br3\\xea\\x8d\\x0f\\x11kE\"\\'\\xb8\\x81&&S\\xd0\\xc4;n\\xf9\\xb5j\\x08\\xb7*#4k\\xf9\\x13\\xe8\\x18\\xc3\\xd7x\\x06\\xb9#\\xd4[\\x17\\xa2S\\xb8v\\x19I\\x9en\\xf8wa\\x96\\x19\\x17\\xb2\\x87D\\x94:\\\\\\x93N\\xca\\x061\\x91\\x98{\\x94\\xc4-_-\\x7f\\x95\\r4\\xd1\\x1c\\xa2m+W\\x80\\x10>Z\\xe3\\x9a@+\\x1f\\x9bq\\x10t;\\xc8x2\\xc1#i\\x86\\xdd\\x18Q\\x9eN\\x1f\\x81\\xe1S\\xaep\\xfe\\xaa\\xc5\\xdf\\x1d\\xac$\\xd9\\x1c\\xc2\\xbd\\x1f\\x8d\\x8f\\xbd\\x03:\\xe77\\x11\\xa4XX/+\\x07\\x8e\\x89\\x80\\x8b\\x83r\\xea\\xcd1\\x81\\x9b\\xb0\\x15\\x91\\xe5\\xf9w\\xe2`\\xcah\\xd7\\xbc\\x8a\\xd29\\x94\\x8e#:\\x8bPv\\xa2\\x98d\\x9e\\xc25\\x89\\xae\\xcc\\xd1O+\\x1f\\x18O\\xd9\\x9a\\xc1\\xa1\\xeb.<\\x98\\xaa\\x03\\xf6\\xbdO\\xdd7\\x1f\\xd5\\xcas\\x06i\\xe6g\\xa6\\xc5*\\xea\\xd4t\\x93\\xe9\\x87;\\xe4\\r\\xab\\xf2C\\xd4\\xb2*\\xa5n\\xfdN-r\\xaek.\\xb9\\x0e\\x12\\xd5yJ\\xbc\\xe1\\xd4}\\x8b\\x03\\xc10-\\x9f\\xcc2MY\\xbcN\\xc3\\x8a\\xb3\\xb3Q\\xdb\\xb43,\\x08\\x0cO\\xd46\\xf8muF8=\\xf1\\xae\\'?\\xc8\\x9d\\xccZu@,\\xebJ\\x9d\\xf8\\xfa\\xca\\xdc\\xbc\\xd5f\\x07w\\x81<zp\\x7f8\\xa7R\\xe8PBo\\x97#(\\xfa\\xd2\\x1b\\xc8\\x946`\\x8b\\xdc\\x93Y\\x8d\\x08\\xdf\\xbc9\\'-\\xff~)l\\x07\\xddJ\\xd8-\\x94\\x1aa\\xbf\\x10T\\x83R\\xa1\\x11\\xb6\\xab\\x85v\\x18V\\xcb\\xfd\\xb0\\\\\\xeau*\\x0f\\xe0`\\x91Q\\\\\\x0e\\xd3\\xeb\\xfa\\x01\\\\a\\xd0Evi\\xaf\\xc7\\xd7.\\xee\\xe3\\xe5-\\xcd\\x85\\x11\\x8b\\x8bL_\\xcc\\x17\\xb5\\xe1\\xfa\\xe2\\xbe\\\\\\xd9|q\\xef\\x11 \\x9d\\xfb\\xb5\\xca\\xa0Ymvj\\x85f\\xb5=(\\x04\\xbdN\\xa3\\xd0\\xec\\xd6:\\x85^\\xad[\\xef\\rz\\xdd\\xb0\\xd1\\x1c<\\xf0\\xbd#\\r\\x0e\\xda\\xd5nP\\xeb7\\n\\xb5r\\xb7[\\x08j%e~\\xa3Y\\xa8\\x07\\x95J;\\xa8\\xb7\\x1b\\xfd\\xa0\\xfd +c`\\xe5)}d\\xbe\\x00\\xf7j\\xbb\\xb6\\xff\\x01\\x00\\x00\\xff\\xff\\x03\\x00PK\\x03\\x04\\x14\\x00\\x06\\x00\\x08\\x00\\x00\\x00!\\x00]]\\x99\\x93\\x96\\x02\\x00\\x00=\\x06\\x00\\x00\\r\\x00\\x00\\x00xl/styles.xml\\xa4T[k\\xdb0\\x14~\\x1f\\xec?\\x08\\xbd\\xbb\\xb2\\xdd8\\x8b\\x83\\xed\\xb245\\x14\\xba1H\\x07{Ul9\\x11\\xd3%HJp6\\xf6\\xdfwd;\\x89C\\xc76\\xda\\x17\\xeb\\xe8\\xf8\\xe8;\\xdf\\xb9fw\\xad\\x14\\xe8\\xc0\\x8c\\xe5Z\\xe58\\xba\\t1b\\xaa\\xd25W\\x9b\\x1c\\x7f}.\\x83\\x19F\\xd6QUS\\xa1\\x15\\xcb\\xf1\\x91Y|W\\xbc\\x7f\\x97Yw\\x14l\\xb5e\\xcc!\\x80P6\\xc7[\\xe7vsBl\\xb5e\\x92\\xda\\x1b\\xbdc\\n\\xfe4\\xdaH\\xea\\xe0j6\\xc4\\xee\\x0c\\xa3\\xb5\\xf5\\x8f\\xa4 q\\x18N\\x89\\xa4\\\\\\xe1\\x1ea.\\xab\\xff\\x01\\x91\\xd4|\\xdf\\xef\\x82J\\xcb\\x1du|\\xcd\\x05w\\xc7\\x0e\\x0b#Y\\xcd\\x1f7J\\x1b\\xba\\x16@\\xb5\\x8d&\\xb4Bm451j\\xcd\\xc9I\\xa7}\\xe1G\\xf2\\xcah\\xab\\x1bw\\x03\\xb8D7\\r\\xaf\\xd8K\\xba)I\\t\\xad.H\\x80\\xfc:\\xa4(!a|\\x15{k^\\x894!\\x86\\x1d\\xb8/\\x1f.\\xb2F+gQ\\xa5\\xf7\\xcaA1\\x07E\\x91\\xd9\\x1f\\xe8@\\x05h\"L\\x8a\\xac\\xd2B\\x1b\\xe4\\xa0J\\x90\\xa4N\\xa3\\xa8d\\xbd\\xc5=\\x15|m\\xb87k\\xa8\\xe4\\xe2\\xd8\\xabc\\xaf\\xe8\\n;\\xd8I\\x0ei\\xf6J\\xe2]\\x0e\\x87\\x85G\\\\\\x883\\x81\\xd8\\x13\\x00E\\x91A\\xa5\\x1c3\\xaa\\x84\\x0b\\x1a\\xe4\\xe7\\xe3\\x0e\\xdc+h\\xaa\\x1e\\xa6\\xb3\\xfb\\x87\\xf5\\xc6\\xd0c\\x14\\'\\xa3\\x07\\xa4sXdkmjh\\xe2q\\xe8\\xbd\\xaa\\xc8\\x04k\\x1c\\x105|\\xb3\\xf5\\xa7\\xd3;\\xf8\\xae\\xb5sP\\xe8\"\\xab9\\xddhE\\x85\\x0f\\xe5\\xf4b\\x10 \\x9c\\x8a\\t\\xb1\\xf2\\x8d\\xfe\\xad\\xb9\\xc2n\\x1b\\xa4\\xf6\\xb2\\x94\\xee\\xb1\\xce1\\x8c\\x8cO\\xc2I\\x84@\\x06\\xb1\\xc7\\xeb/\\x1e\\x7f\\x8c\\xd6c\\xbf\\x19\\x16\\xb5\\xcd5> \\x8eh_\\x91>\\xbbG\\xbe\\xde9\\xfe\\xec\\'S@7\\x0f\\x10h\\xbd\\xe7\\xc2q\\xf5\\x07\\xc2\\x80Y\\xb7\\x97\\x14\\x84\\xbe\\x02\\xceOY\\x97\\x9c\\xb3\\x17\\xc8D\\xcd\\x1a\\xba\\x17\\xee\\xf9\\xfc3\\xc7\\x17\\xf9\\x13\\xab\\xf9^\\xc6g\\xab/\\xfc\\xa0]\\x07\\x91\\xe3\\x8b\\xdc[\\xa5\\xde\\x07k\\xdd\\x93\\x85\\xf6\\x82\\x13\\xed\\r\\xcf\\xf1\\xcf\\x87\\xc5\\x87t\\xf9P\\xc6\\xc1,\\\\\\xcc\\x82\\xc9-K\\x824Y,\\x83dr\\xbfX.\\xcb4\\x8c\\xc3\\xfb_\\xa3Y\\x7f\\xc3\\xa4w\\xab\\xa9\\xc8`a\\xcc\\xad\\x80}`\\x86`\\x87\\x10W\\x17]\\x8eG\\x97\\'\\xdfh\\xddX\\x11\\xa0=\\xe6\\x9e\\xc6\\xd3\\xf0c\\x12\\x85Ay\\x1bF\\xc1dJg\\xc1lz\\x9b\\x04e\\x12\\xc5\\xcb\\xe9d\\xf1\\x90\\x94\\xc9\\x88{\\xf2\\xca\\x8d\\x10\\x92(\\xeaw\\x8b\\'\\x9f\\xcc\\x1d\\x97Lpu\\xaa\\xd5\\xa9Bc-\\x14\\t\\xae\\x7f\\t\\xc2\\x87\\xd2U\\x82\\\\\\xf6~\\xf1\\x1b\\x00\\x00\\xff\\xff\\x03\\x00PK\\x03\\x04\\x14\\x00\\x06\\x00\\x08\\x00\\x00\\x00!\\x00\\x82n.\\xbb\\xa6\\x00\\x00\\x00\\xcd\\x00\\x00\\x00\\x14\\x00\\x00\\x00xl/sharedStrings.xmlD\\x8eA\\n\\xc20\\x10E\\xf7\\x82w\\x08\\xb3\\xb7\\xa9]\\x88H\\x92.\\x84n\\xdd\\xe8\\x01B;\\xda@3\\xa9\\x99\\x89\\xe8\\xed\\xad\\x88\\xb8|\\xef\\xf3\\xe0\\x9b\\xf6\\x19\\'\\xf5\\xc0\\xcc!\\x91\\x85mU\\x83B\\xea\\xd3\\x10\\xe8f\\xe1r\\xee6{P,\\x9e\\x06?%B\\x0b/dh\\xddze\\x98E--\\xb1\\x85Qd>h\\xcd\\xfd\\x88\\xd1s\\x95f\\xa4e\\xb9\\xa6\\x1c\\xbd,\\x98o\\x9a\\xe7\\x8c~\\xe0\\x11Q\\xe2\\xa4\\x9b\\xba\\xde\\xe9\\xe8\\x03\\x81\\xeaS!\\xb1\\xd0\\x80*\\x14\\xee\\x05\\x8f?v\\x86\\x833\\xe2:\\xf4R2\\x1a-\\xce\\xe8\\x8f\\xfa\\xeaS\\x91\\xb9\\xc8\\xdf\\xea\\xe5\\x8e{\\x03\\x00\\x00\\xff\\xff\\x03\\x00PK\\x03\\x04\\x14\\x00\\x06\\x00\\x08\\x00\\x00\\x00!\\x00V\\x7f\\xdbO\\x91\\x01\\x00\\x00\\x16\\x03\\x00\\x00\\x11\\x00\\x08\\x01docProps/core.xml \\xa2\\x04\\x01(\\xa0\\x00\\x01\\x00\\x00\\x00\\x00\\x00\\x00\\x00\\x00\\x00\\x00\\x00\\x00\\x00\\x00\\x00\\x00\\x00\\x00\\x00\\x00\\x00\\x00\\x00\\x00\\x00\\x00\\x00\\x00\\x00\\x00\\x00\\x00\\x00\\x00\\x00\\x00\\x00\\x00\\x00\\x00\\x00\\x00\\x00\\x00\\x00\\x00\\x00\\x00\\x00\\x00\\x00\\x00\\x00\\x00\\x00\\x00\\x00\\x00\\x00\\x00\\x00\\x00\\x00\\x00\\x00\\x00\\x00\\x00\\x00\\x00\\x00\\x00\\x00\\x00\\x00\\x00\\x00\\x00\\x00\\x00\\x00\\x00\\x00\\x00\\x00\\x00\\x00\\x00\\x00\\x00\\x00\\x00\\x00\\x00\\x00\\x00\\x00\\x00\\x00\\x00\\x00\\x00\\x00\\x00\\x00\\x00\\x00\\x00\\x00\\x00\\x00\\x00\\x00\\x00\\x00\\x00\\x00\\x00\\x00\\x00\\x00\\x00\\x00\\x00\\x00\\x00\\x00\\x00\\x00\\x00\\x00\\x00\\x00\\x00\\x00\\x00\\x00\\x00\\x00\\x00\\x00\\x00\\x00\\x00\\x00\\x00\\x00\\x00\\x00\\x00\\x00\\x00\\x00\\x00\\x00\\x00\\x00\\x00\\x00\\x00\\x00\\x00\\x00\\x00\\x00\\x00\\x00\\x00\\x00\\x00\\x00\\x00\\x00\\x00\\x00\\x00\\x00\\x00\\x00\\x00\\x00\\x00\\x00\\x00\\x00\\x00\\x00\\x00\\x00\\x00\\x00\\x00\\x00\\x00\\x00\\x00\\x00\\x00\\x00\\x00\\x00\\x00\\x00\\x00\\x00\\x00\\x00\\x00\\x00\\x00\\x00\\x00\\x00\\x00\\x00\\x00\\x00\\x00\\x00\\x00\\x00\\x00\\x00\\x00\\x00\\x00\\x00\\x00\\x00\\x00\\x00\\x00\\x00\\x00\\x00\\x00\\x00\\x00\\x00\\x00\\x00\\x00\\x00\\x00\\x00\\x00\\x00\\x00\\x00\\x00\\x00\\x00\\x00\\x00\\x00\\x00|R\\xc1n\\xdb0\\x0c\\xbd\\x0f\\xe8?\\x18\\xba;\\xb2\\x9ct\\xeb\\x84\\xc4\\x05\\xd6\\xa1\\xa7\\x15(\\xd0\\x0c\\x1bv\\xd3$6\\xd5jK\\x82\\xc4\\xd4\\xcd\\xdf\\x8f\\xb6\\\\\\'\\x19\\x8a\\xdd\\xf4\\xf8\\x1e\\x1f\\xc8\\'\\xae\\xaf_\\xbb\\xb6x\\x81\\x98\\xacw\\x1b&\\x16\\x15+\\xc0io\\xac\\xdbm\\xd8\\xf7\\xedmy\\xc5\\x8a\\x84\\xca\\x19\\xd5z\\x07\\x1bv\\x80\\xc4\\xae\\x9b\\x8b\\x0fk\\x1d\\xa4\\xf6\\x11\\xee\\xa3\\x0f\\x10\\xd1B*\\xc8\\xc9%\\xa9\\xc3\\x86=!\\x06\\xc9y\\xd2O\\xd0\\xa9\\xb4 \\x85#\\xf2\\xd1\\xc7N!\\xc1\\xb8\\xe3A\\xe9g\\xb5\\x03^W\\xd5G\\xde\\x01*\\xa3P\\xf1\\xc1\\xb0\\x0c\\xb3#\\x9b,\\x8d\\x9e-\\xc3>\\xb6\\xa3\\x81\\xd1\\x1cZ\\xe8\\xc0a\\xe2b!\\xf8Q\\x8b\\x10\\xbb\\xf4n\\xc3\\xc8\\x9c(;\\x8b\\x87@;M\\xe3\\x9ez\\x1b\\x9d\\xc9Y\\xfd\\x9a\\xec,\\xec\\xfb~\\xd1/\\xc71h~\\xc1\\x7f\\xde}{\\x18W-\\xad\\x1b\\xb2\\xd2\\xc0\\x9a\\xb5\\xd1\\x12-\\xb6\\xd0\\xac\\xf9\\xf1I\\xaf\\xb4\\xff\\xfd\\x074\\xe6\\xf2\\x0c\\x88\\xd0\\x11\\x14\\xfa\\x98\\x89\\x19P\\xcc\\xcfp\\xe8}4\\x89\\x983D=\\x06\\x92\\x8e6 }^\\xee;+\\x90\\xbaU\\t\\xef\\xe87\\x1f-\\x98/\\x87\\xec\\xf0o\\x8dd\\x11^\\xecp\\x01YpDF\\x8f\\x99\\xe5\\xd9\\xc0\\x14\\x94\\x82\\xcc\\x99\\xbd1?\\x967_\\xb7\\xb7\\xac\\xa9\\xab\\xba.E].\\xc5V\\xac\\xe4\\xea\\x93\\xac?\\xff\\x1a6?\\xeb\\x1fR\\xc9\\x85n\\x9a\\xe9\\xff\\x8e\\xcb\\xb2\\x12e]o\\xab\\x95\\xac\\xae\\xe4\\xa58q|3h\\xc6CT\\x08;\\x1f\\xa7\\xfd\\xf4\\x8c\\xc6\\x1buHG\\xf2\\x80\\n\\xf7S\\x82\\xda\\xbfS:\\xbd\\xe4\\xe6/\\x00\\x00\\x00\\xff\\xff\\x03\\x00PK\\x03\\x04\\x14\\x00\\x06\\x00\\x08\\x00\\x00\\x00!\\x00\\x1f\\x9b]\\x8b\\xef\\x00\\x00\\x00\\x8a\\x01\\x00\\x00\\x10\\x00\\x08\\x01docProps/app.xml \\xa2\\x04\\x01(\\xa0\\x00\\x01\\x00\\x00\\x00\\x00\\x00\\x00\\x00\\x00\\x00\\x00\\x00\\x00\\x00\\x00\\x00\\x00\\x00\\x00\\x00\\x00\\x00\\x00\\x00\\x00\\x00\\x00\\x00\\x00\\x00\\x00\\x00\\x00\\x00\\x00\\x00\\x00\\x00\\x00\\x00\\x00\\x00\\x00\\x00\\x00\\x00\\x00\\x00\\x00\\x00\\x00\\x00\\x00\\x00\\x00\\x00\\x00\\x00\\x00\\x00\\x00\\x00\\x00\\x00\\x00\\x00\\x00\\x00\\x00\\x00\\x00\\x00\\x00\\x00\\x00\\x00\\x00\\x00\\x00\\x00\\x00\\x00\\x00\\x00\\x00\\x00\\x00\\x00\\x00\\x00\\x00\\x00\\x00\\x00\\x00\\x00\\x00\\x00\\x00\\x00\\x00\\x00\\x00\\x00\\x00\\x00\\x00\\x00\\x00\\x00\\x00\\x00\\x00\\x00\\x00\\x00\\x00\\x00\\x00\\x00\\x00\\x00\\x00\\x00\\x00\\x00\\x00\\x00\\x00\\x00\\x00\\x00\\x00\\x00\\x00\\x00\\x00\\x00\\x00\\x00\\x00\\x00\\x00\\x00\\x00\\x00\\x00\\x00\\x00\\x00\\x00\\x00\\x00\\x00\\x00\\x00\\x00\\x00\\x00\\x00\\x00\\x00\\x00\\x00\\x00\\x00\\x00\\x00\\x00\\x00\\x00\\x00\\x00\\x00\\x00\\x00\\x00\\x00\\x00\\x00\\x00\\x00\\x00\\x00\\x00\\x00\\x00\\x00\\x00\\x00\\x00\\x00\\x00\\x00\\x00\\x00\\x00\\x00\\x00\\x00\\x00\\x00\\x00\\x00\\x00\\x00\\x00\\x00\\x00\\x00\\x00\\x00\\x00\\x00\\x00\\x00\\x00\\x00\\x00\\x00\\x00\\x00\\x00\\x00\\x00\\x00\\x00\\x00\\x00\\x00\\x00\\x00\\x00\\x00\\x00\\x00\\x00\\x00\\x00\\x00\\x00\\x00\\x00\\x00\\x00\\x00\\x00\\x00\\x00\\x00\\x00\\x00\\x00\\x00\\x00\\x00\\x00\\x9c\\x90MO\\xc30\\x0c\\x86\\xefH\\xfc\\x87(\\xf75\\x19H\\x13\\x9a\\xd2L\\xe3K\\\\&8\\x8c\\xdd\\xa3\\xd4\\xed\"Z;J\\xc2\\xd4\\xfe{\\x0c\\x13\\x05q\\xe4f\\xfb\\xb5\\x1f\\xbf\\xb6\\xd9\\x8cC/N\\x90r \\xac\\xe5\\xb2\\xd2R\\x00zj\\x02v\\xb5|\\xdd?.n\\xa4\\xc8\\xc5a\\xe3zB\\xa8\\xe5\\x04Yn\\xec\\xe5\\x85yI\\x14!\\x95\\x00Y0\\x02s-\\x8f\\xa5\\xc4\\xb5R\\xd9\\x1fap\\xb9b\\x19Yi)\\r\\xaep\\x9a:Em\\x1b<\\xdc\\x93\\x7f\\x1f\\x00\\x8b\\xba\\xd2z\\xa5`,\\x80\\r4\\x8b8\\x03\\xe5\\x99\\xb8>\\x95\\xffB\\x1b\\xf2\\x9f\\xfe\\xf2a?E6l\\xcd6\\xc6>xW\\xf8J\\xbb\\x0b>Q\\xa6\\xb6\\x88\\x87\\xd1C/\\x9e\\xb1\\x0f\\x08F\\xfd\\xee1;\\x87\\xae\\x83d\\x8d\\x9a\\xa3;\\x1a\\xa2\\xc3\\x89Ks\\xf4\\xc4\\xf8\\xc4\\xd3o\\xb7.\\x03\\x0b\\x7fr&\\x1e\\xce\\xaf\\xb5\\xcbU\\xa5\\xaf\\xb5\\xfe\\xda\\xf2]3\\xea\\xe7\\x89\\xf6\\x03\\x00\\x00\\xff\\xff\\x03\\x00PK\\x01\\x02-\\x00\\x14\\x00\\x06\\x00\\x08\\x00\\x00\\x00!\\x00LA\\x02\\x11_\\x01\\x00\\x00\\x90\\x04\\x00\\x00\\x13\\x00\\x00\\x00\\x00\\x00\\x00\\x00\\x00\\x00\\x00\\x00\\x00\\x00\\x00\\x00\\x00\\x00[Content_Types].xmlPK\\x01\\x02-\\x00\\x14\\x00\\x06\\x00\\x08\\x00\\x00\\x00!\\x00\\xb5U0#\\xf4\\x00\\x00\\x00L\\x02\\x00\\x00\\x0b\\x00\\x00\\x00\\x00\\x00\\x00\\x00\\x00\\x00\\x00\\x00\\x00\\x00\\x98\\x03\\x00\\x00_rels/.relsPK\\x01\\x02-\\x00\\x14\\x00\\x06\\x00\\x08\\x00\\x00\\x00!\\x00\\xb5[\\xdf\\xf2\\xc8\\x02\\x00\\x00\\xfa\\x06\\x00\\x00\\x0f\\x00\\x00\\x00\\x00\\x00\\x00\\x00\\x00\\x00\\x00\\x00\\x00\\x00\\xbd\\x06\\x00\\x00xl/workbook.xmlPK\\x01\\x02-\\x00\\x14\\x00\\x06\\x00\\x08\\x00\\x00\\x00!\\x00\\x81>\\x94\\x97\\xf3\\x00\\x00\\x00\\xba\\x02\\x00\\x00\\x1a\\x00\\x00\\x00\\x00\\x00\\x00\\x00\\x00\\x00\\x00\\x00\\x00\\x00\\xb2\\t\\x00\\x00xl/_rels/workbook.xml.relsPK\\x01\\x02-\\x00\\x14\\x00\\x06\\x00\\x08\\x00\\x00\\x00!\\x00\\xe9\\xd3&\\xfb\\xf3\\x0e\\x00\\x00`/\\x00\\x00\\x18\\x00\\x00\\x00\\x00\\x00\\x00\\x00\\x00\\x00\\x00\\x00\\x00\\x00\\xe5\\x0b\\x00\\x00xl/worksheets/sheet1.xmlPK\\x01\\x02-\\x00\\x14\\x00\\x06\\x00\\x08\\x00\\x00\\x00!\\x00\\xc1\\x17\\x10\\xbeN\\x07\\x00\\x00\\xc6 \\x00\\x00\\x13\\x00\\x00\\x00\\x00\\x00\\x00\\x00\\x00\\x00\\x00\\x00\\x00\\x00\\x0e\\x1b\\x00\\x00xl/theme/theme1.xmlPK\\x01\\x02-\\x00\\x14\\x00\\x06\\x00\\x08\\x00\\x00\\x00!\\x00]]\\x99\\x93\\x96\\x02\\x00\\x00=\\x06\\x00\\x00\\r\\x00\\x00\\x00\\x00\\x00\\x00\\x00\\x00\\x00\\x00\\x00\\x00\\x00\\x8d\"\\x00\\x00xl/styles.xmlPK\\x01\\x02-\\x00\\x14\\x00\\x06\\x00\\x08\\x00\\x00\\x00!\\x00\\x82n.\\xbb\\xa6\\x00\\x00\\x00\\xcd\\x00\\x00\\x00\\x14\\x00\\x00\\x00\\x00\\x00\\x00\\x00\\x00\\x00\\x00\\x00\\x00\\x00N%\\x00\\x00xl/sharedStrings.xmlPK\\x01\\x02-\\x00\\x14\\x00\\x06\\x00\\x08\\x00\\x00\\x00!\\x00V\\x7f\\xdbO\\x91\\x01\\x00\\x00\\x16\\x03\\x00\\x00\\x11\\x00\\x00\\x00\\x00\\x00\\x00\\x00\\x00\\x00\\x00\\x00\\x00\\x00&&\\x00\\x00docProps/core.xmlPK\\x01\\x02-\\x00\\x14\\x00\\x06\\x00\\x08\\x00\\x00\\x00!\\x00\\x1f\\x9b]\\x8b\\xef\\x00\\x00\\x00\\x8a\\x01\\x00\\x00\\x10\\x00\\x00\\x00\\x00\\x00\\x00\\x00\\x00\\x00\\x00\\x00\\x00\\x00\\xee(\\x00\\x00docProps/app.xmlPK\\x05\\x06\\x00\\x00\\x00\\x00\\n\\x00\\n\\x00\\x80\\x02\\x00\\x00\\x13+\\x00\\x00\\x00\\x00'}"
            ]
          },
          "metadata": {},
          "execution_count": 26
        }
      ]
    },
    {
      "cell_type": "markdown",
      "source": [
        "#Read dataset"
      ],
      "metadata": {
        "id": "XufTb5RVubqh"
      },
      "id": "XufTb5RVubqh"
    },
    {
      "cell_type": "code",
      "source": [
        "dataset = pd.read_excel(\"dataset.xlsx\")"
      ],
      "metadata": {
        "id": "DNOn4VW3q6YR"
      },
      "id": "DNOn4VW3q6YR",
      "execution_count": 27,
      "outputs": []
    },
    {
      "cell_type": "markdown",
      "source": [
        "#Print dataset"
      ],
      "metadata": {
        "id": "ofnM-fvWun2S"
      },
      "id": "ofnM-fvWun2S"
    },
    {
      "cell_type": "code",
      "source": [
        "print(dataset)"
      ],
      "metadata": {
        "colab": {
          "base_uri": "https://localhost:8080/"
        },
        "id": "NjgCfmSTq_Su",
        "outputId": "d999d571-8206-46ef-ebfb-c313c1783c2b"
      },
      "id": "NjgCfmSTq_Su",
      "execution_count": 28,
      "outputs": [
        {
          "output_type": "stream",
          "name": "stdout",
          "text": [
            "      Feature     Output\n",
            "0   32.502345  31.707006\n",
            "1   53.426804  68.777596\n",
            "2   61.530358  62.562382\n",
            "3   47.475640  71.546632\n",
            "4   59.813208  87.230925\n",
            "..        ...        ...\n",
            "95  50.030174  81.536991\n",
            "96  49.239765  72.111832\n",
            "97  50.039576  85.232007\n",
            "98  48.149859  66.224958\n",
            "99  25.128485  53.454394\n",
            "\n",
            "[100 rows x 2 columns]\n"
          ]
        }
      ]
    },
    {
      "cell_type": "markdown",
      "source": [
        "#Printing shape of dataset"
      ],
      "metadata": {
        "id": "RlphpKW7uuMm"
      },
      "id": "RlphpKW7uuMm"
    },
    {
      "cell_type": "code",
      "execution_count": 29,
      "id": "7fc417b1",
      "metadata": {
        "colab": {
          "base_uri": "https://localhost:8080/"
        },
        "id": "7fc417b1",
        "outputId": "b01dd53d-c6d9-4012-ab0f-e2e11ffe08f8"
      },
      "outputs": [
        {
          "output_type": "stream",
          "name": "stdout",
          "text": [
            "(100, 2)\n"
          ]
        }
      ],
      "source": [
        "print(dataset.shape)  "
      ]
    },
    {
      "cell_type": "markdown",
      "source": [
        "#Checking null values"
      ],
      "metadata": {
        "id": "azIjUnLpvQQ7"
      },
      "id": "azIjUnLpvQQ7"
    },
    {
      "cell_type": "code",
      "execution_count": 30,
      "id": "451aee6c",
      "metadata": {
        "colab": {
          "base_uri": "https://localhost:8080/",
          "height": 419
        },
        "id": "451aee6c",
        "outputId": "7041fd15-3b5d-48db-ae29-cddfa4c3b8ad"
      },
      "outputs": [
        {
          "output_type": "execute_result",
          "data": {
            "text/plain": [
              "    Feature  Output\n",
              "0     False   False\n",
              "1     False   False\n",
              "2     False   False\n",
              "3     False   False\n",
              "4     False   False\n",
              "..      ...     ...\n",
              "95    False   False\n",
              "96    False   False\n",
              "97    False   False\n",
              "98    False   False\n",
              "99    False   False\n",
              "\n",
              "[100 rows x 2 columns]"
            ],
            "text/html": [
              "\n",
              "  <div id=\"df-c34a6a19-b7fe-48d1-9498-0a64f636e5c1\">\n",
              "    <div class=\"colab-df-container\">\n",
              "      <div>\n",
              "<style scoped>\n",
              "    .dataframe tbody tr th:only-of-type {\n",
              "        vertical-align: middle;\n",
              "    }\n",
              "\n",
              "    .dataframe tbody tr th {\n",
              "        vertical-align: top;\n",
              "    }\n",
              "\n",
              "    .dataframe thead th {\n",
              "        text-align: right;\n",
              "    }\n",
              "</style>\n",
              "<table border=\"1\" class=\"dataframe\">\n",
              "  <thead>\n",
              "    <tr style=\"text-align: right;\">\n",
              "      <th></th>\n",
              "      <th>Feature</th>\n",
              "      <th>Output</th>\n",
              "    </tr>\n",
              "  </thead>\n",
              "  <tbody>\n",
              "    <tr>\n",
              "      <th>0</th>\n",
              "      <td>False</td>\n",
              "      <td>False</td>\n",
              "    </tr>\n",
              "    <tr>\n",
              "      <th>1</th>\n",
              "      <td>False</td>\n",
              "      <td>False</td>\n",
              "    </tr>\n",
              "    <tr>\n",
              "      <th>2</th>\n",
              "      <td>False</td>\n",
              "      <td>False</td>\n",
              "    </tr>\n",
              "    <tr>\n",
              "      <th>3</th>\n",
              "      <td>False</td>\n",
              "      <td>False</td>\n",
              "    </tr>\n",
              "    <tr>\n",
              "      <th>4</th>\n",
              "      <td>False</td>\n",
              "      <td>False</td>\n",
              "    </tr>\n",
              "    <tr>\n",
              "      <th>...</th>\n",
              "      <td>...</td>\n",
              "      <td>...</td>\n",
              "    </tr>\n",
              "    <tr>\n",
              "      <th>95</th>\n",
              "      <td>False</td>\n",
              "      <td>False</td>\n",
              "    </tr>\n",
              "    <tr>\n",
              "      <th>96</th>\n",
              "      <td>False</td>\n",
              "      <td>False</td>\n",
              "    </tr>\n",
              "    <tr>\n",
              "      <th>97</th>\n",
              "      <td>False</td>\n",
              "      <td>False</td>\n",
              "    </tr>\n",
              "    <tr>\n",
              "      <th>98</th>\n",
              "      <td>False</td>\n",
              "      <td>False</td>\n",
              "    </tr>\n",
              "    <tr>\n",
              "      <th>99</th>\n",
              "      <td>False</td>\n",
              "      <td>False</td>\n",
              "    </tr>\n",
              "  </tbody>\n",
              "</table>\n",
              "<p>100 rows × 2 columns</p>\n",
              "</div>\n",
              "      <button class=\"colab-df-convert\" onclick=\"convertToInteractive('df-c34a6a19-b7fe-48d1-9498-0a64f636e5c1')\"\n",
              "              title=\"Convert this dataframe to an interactive table.\"\n",
              "              style=\"display:none;\">\n",
              "        \n",
              "  <svg xmlns=\"http://www.w3.org/2000/svg\" height=\"24px\"viewBox=\"0 0 24 24\"\n",
              "       width=\"24px\">\n",
              "    <path d=\"M0 0h24v24H0V0z\" fill=\"none\"/>\n",
              "    <path d=\"M18.56 5.44l.94 2.06.94-2.06 2.06-.94-2.06-.94-.94-2.06-.94 2.06-2.06.94zm-11 1L8.5 8.5l.94-2.06 2.06-.94-2.06-.94L8.5 2.5l-.94 2.06-2.06.94zm10 10l.94 2.06.94-2.06 2.06-.94-2.06-.94-.94-2.06-.94 2.06-2.06.94z\"/><path d=\"M17.41 7.96l-1.37-1.37c-.4-.4-.92-.59-1.43-.59-.52 0-1.04.2-1.43.59L10.3 9.45l-7.72 7.72c-.78.78-.78 2.05 0 2.83L4 21.41c.39.39.9.59 1.41.59.51 0 1.02-.2 1.41-.59l7.78-7.78 2.81-2.81c.8-.78.8-2.07 0-2.86zM5.41 20L4 18.59l7.72-7.72 1.47 1.35L5.41 20z\"/>\n",
              "  </svg>\n",
              "      </button>\n",
              "      \n",
              "  <style>\n",
              "    .colab-df-container {\n",
              "      display:flex;\n",
              "      flex-wrap:wrap;\n",
              "      gap: 12px;\n",
              "    }\n",
              "\n",
              "    .colab-df-convert {\n",
              "      background-color: #E8F0FE;\n",
              "      border: none;\n",
              "      border-radius: 50%;\n",
              "      cursor: pointer;\n",
              "      display: none;\n",
              "      fill: #1967D2;\n",
              "      height: 32px;\n",
              "      padding: 0 0 0 0;\n",
              "      width: 32px;\n",
              "    }\n",
              "\n",
              "    .colab-df-convert:hover {\n",
              "      background-color: #E2EBFA;\n",
              "      box-shadow: 0px 1px 2px rgba(60, 64, 67, 0.3), 0px 1px 3px 1px rgba(60, 64, 67, 0.15);\n",
              "      fill: #174EA6;\n",
              "    }\n",
              "\n",
              "    [theme=dark] .colab-df-convert {\n",
              "      background-color: #3B4455;\n",
              "      fill: #D2E3FC;\n",
              "    }\n",
              "\n",
              "    [theme=dark] .colab-df-convert:hover {\n",
              "      background-color: #434B5C;\n",
              "      box-shadow: 0px 1px 3px 1px rgba(0, 0, 0, 0.15);\n",
              "      filter: drop-shadow(0px 1px 2px rgba(0, 0, 0, 0.3));\n",
              "      fill: #FFFFFF;\n",
              "    }\n",
              "  </style>\n",
              "\n",
              "      <script>\n",
              "        const buttonEl =\n",
              "          document.querySelector('#df-c34a6a19-b7fe-48d1-9498-0a64f636e5c1 button.colab-df-convert');\n",
              "        buttonEl.style.display =\n",
              "          google.colab.kernel.accessAllowed ? 'block' : 'none';\n",
              "\n",
              "        async function convertToInteractive(key) {\n",
              "          const element = document.querySelector('#df-c34a6a19-b7fe-48d1-9498-0a64f636e5c1');\n",
              "          const dataTable =\n",
              "            await google.colab.kernel.invokeFunction('convertToInteractive',\n",
              "                                                     [key], {});\n",
              "          if (!dataTable) return;\n",
              "\n",
              "          const docLinkHtml = 'Like what you see? Visit the ' +\n",
              "            '<a target=\"_blank\" href=https://colab.research.google.com/notebooks/data_table.ipynb>data table notebook</a>'\n",
              "            + ' to learn more about interactive tables.';\n",
              "          element.innerHTML = '';\n",
              "          dataTable['output_type'] = 'display_data';\n",
              "          await google.colab.output.renderOutput(dataTable, element);\n",
              "          const docLink = document.createElement('div');\n",
              "          docLink.innerHTML = docLinkHtml;\n",
              "          element.appendChild(docLink);\n",
              "        }\n",
              "      </script>\n",
              "    </div>\n",
              "  </div>\n",
              "  "
            ]
          },
          "metadata": {},
          "execution_count": 30
        }
      ],
      "source": [
        "dataset.isnull()"
      ]
    },
    {
      "cell_type": "markdown",
      "source": [
        "#Define Feature and Output"
      ],
      "metadata": {
        "id": "d-PGr-BYvgHZ"
      },
      "id": "d-PGr-BYvgHZ"
    },
    {
      "cell_type": "code",
      "execution_count": 31,
      "id": "69620e85",
      "metadata": {
        "id": "69620e85"
      },
      "outputs": [],
      "source": [
        "\n",
        "x= dataset.iloc[:, 0]\n",
        "y= dataset.iloc[:, 1]\n"
      ]
    },
    {
      "cell_type": "markdown",
      "source": [
        "#Plot the dataset"
      ],
      "metadata": {
        "id": "85I6sTk4vkU8"
      },
      "id": "85I6sTk4vkU8"
    },
    {
      "cell_type": "code",
      "execution_count": 32,
      "id": "ae1b0a6c",
      "metadata": {
        "colab": {
          "base_uri": "https://localhost:8080/",
          "height": 282
        },
        "id": "ae1b0a6c",
        "outputId": "a79c5f42-a14c-4ba1-efe6-7c148b88dd96"
      },
      "outputs": [
        {
          "output_type": "execute_result",
          "data": {
            "text/plain": [
              "<matplotlib.collections.PathCollection at 0x7fd613f12670>"
            ]
          },
          "metadata": {},
          "execution_count": 32
        },
        {
          "output_type": "display_data",
          "data": {
            "text/plain": [
              "<Figure size 432x288 with 1 Axes>"
            ],
            "image/png": "[encoded data removed]"
          },
          "metadata": {
            "needs_background": "light"
          }
        }
      ],
      "source": [
        "plt.scatter(x,y) "
      ]
    },
    {
      "cell_type": "code",
      "execution_count": 33,
      "id": "578824fe",
      "metadata": {
        "colab": {
          "base_uri": "https://localhost:8080/",
          "height": 111
        },
        "id": "578824fe",
        "outputId": "563576ee-709c-4f5e-b24b-86940711aac6"
      },
      "outputs": [
        {
          "output_type": "execute_result",
          "data": {
            "text/plain": [
              "          Feature    Output\n",
              "Feature  1.000000  0.773728\n",
              "Output   0.773728  1.000000"
            ],
            "text/html": [
              "\n",
              "  <div id=\"df-fd6d7c49-57f7-4d73-bf21-37b7275d6bef\">\n",
              "    <div class=\"colab-df-container\">\n",
              "      <div>\n",
              "<style scoped>\n",
              "    .dataframe tbody tr th:only-of-type {\n",
              "        vertical-align: middle;\n",
              "    }\n",
              "\n",
              "    .dataframe tbody tr th {\n",
              "        vertical-align: top;\n",
              "    }\n",
              "\n",
              "    .dataframe thead th {\n",
              "        text-align: right;\n",
              "    }\n",
              "</style>\n",
              "<table border=\"1\" class=\"dataframe\">\n",
              "  <thead>\n",
              "    <tr style=\"text-align: right;\">\n",
              "      <th></th>\n",
              "      <th>Feature</th>\n",
              "      <th>Output</th>\n",
              "    </tr>\n",
              "  </thead>\n",
              "  <tbody>\n",
              "    <tr>\n",
              "      <th>Feature</th>\n",
              "      <td>1.000000</td>\n",
              "      <td>0.773728</td>\n",
              "    </tr>\n",
              "    <tr>\n",
              "      <th>Output</th>\n",
              "      <td>0.773728</td>\n",
              "      <td>1.000000</td>\n",
              "    </tr>\n",
              "  </tbody>\n",
              "</table>\n",
              "</div>\n",
              "      <button class=\"colab-df-convert\" onclick=\"convertToInteractive('df-fd6d7c49-57f7-4d73-bf21-37b7275d6bef')\"\n",
              "              title=\"Convert this dataframe to an interactive table.\"\n",
              "              style=\"display:none;\">\n",
              "        \n",
              "  <svg xmlns=\"http://www.w3.org/2000/svg\" height=\"24px\"viewBox=\"0 0 24 24\"\n",
              "       width=\"24px\">\n",
              "    <path d=\"M0 0h24v24H0V0z\" fill=\"none\"/>\n",
              "    <path d=\"M18.56 5.44l.94 2.06.94-2.06 2.06-.94-2.06-.94-.94-2.06-.94 2.06-2.06.94zm-11 1L8.5 8.5l.94-2.06 2.06-.94-2.06-.94L8.5 2.5l-.94 2.06-2.06.94zm10 10l.94 2.06.94-2.06 2.06-.94-2.06-.94-.94-2.06-.94 2.06-2.06.94z\"/><path d=\"M17.41 7.96l-1.37-1.37c-.4-.4-.92-.59-1.43-.59-.52 0-1.04.2-1.43.59L10.3 9.45l-7.72 7.72c-.78.78-.78 2.05 0 2.83L4 21.41c.39.39.9.59 1.41.59.51 0 1.02-.2 1.41-.59l7.78-7.78 2.81-2.81c.8-.78.8-2.07 0-2.86zM5.41 20L4 18.59l7.72-7.72 1.47 1.35L5.41 20z\"/>\n",
              "  </svg>\n",
              "      </button>\n",
              "      \n",
              "  <style>\n",
              "    .colab-df-container {\n",
              "      display:flex;\n",
              "      flex-wrap:wrap;\n",
              "      gap: 12px;\n",
              "    }\n",
              "\n",
              "    .colab-df-convert {\n",
              "      background-color: #E8F0FE;\n",
              "      border: none;\n",
              "      border-radius: 50%;\n",
              "      cursor: pointer;\n",
              "      display: none;\n",
              "      fill: #1967D2;\n",
              "      height: 32px;\n",
              "      padding: 0 0 0 0;\n",
              "      width: 32px;\n",
              "    }\n",
              "\n",
              "    .colab-df-convert:hover {\n",
              "      background-color: #E2EBFA;\n",
              "      box-shadow: 0px 1px 2px rgba(60, 64, 67, 0.3), 0px 1px 3px 1px rgba(60, 64, 67, 0.15);\n",
              "      fill: #174EA6;\n",
              "    }\n",
              "\n",
              "    [theme=dark] .colab-df-convert {\n",
              "      background-color: #3B4455;\n",
              "      fill: #D2E3FC;\n",
              "    }\n",
              "\n",
              "    [theme=dark] .colab-df-convert:hover {\n",
              "      background-color: #434B5C;\n",
              "      box-shadow: 0px 1px 3px 1px rgba(0, 0, 0, 0.15);\n",
              "      filter: drop-shadow(0px 1px 2px rgba(0, 0, 0, 0.3));\n",
              "      fill: #FFFFFF;\n",
              "    }\n",
              "  </style>\n",
              "\n",
              "      <script>\n",
              "        const buttonEl =\n",
              "          document.querySelector('#df-fd6d7c49-57f7-4d73-bf21-37b7275d6bef button.colab-df-convert');\n",
              "        buttonEl.style.display =\n",
              "          google.colab.kernel.accessAllowed ? 'block' : 'none';\n",
              "\n",
              "        async function convertToInteractive(key) {\n",
              "          const element = document.querySelector('#df-fd6d7c49-57f7-4d73-bf21-37b7275d6bef');\n",
              "          const dataTable =\n",
              "            await google.colab.kernel.invokeFunction('convertToInteractive',\n",
              "                                                     [key], {});\n",
              "          if (!dataTable) return;\n",
              "\n",
              "          const docLinkHtml = 'Like what you see? Visit the ' +\n",
              "            '<a target=\"_blank\" href=https://colab.research.google.com/notebooks/data_table.ipynb>data table notebook</a>'\n",
              "            + ' to learn more about interactive tables.';\n",
              "          element.innerHTML = '';\n",
              "          dataTable['output_type'] = 'display_data';\n",
              "          await google.colab.output.renderOutput(dataTable, element);\n",
              "          const docLink = document.createElement('div');\n",
              "          docLink.innerHTML = docLinkHtml;\n",
              "          element.appendChild(docLink);\n",
              "        }\n",
              "      </script>\n",
              "    </div>\n",
              "  </div>\n",
              "  "
            ]
          },
          "metadata": {},
          "execution_count": 33
        }
      ],
      "source": [
        "dataset.corr(method='pearson')"
      ]
    },
    {
      "cell_type": "markdown",
      "source": [
        "#Initialize random values for m and c"
      ],
      "metadata": {
        "id": "a4ukvRcCv2wD"
      },
      "id": "a4ukvRcCv2wD"
    },
    {
      "cell_type": "code",
      "execution_count": 46,
      "id": "e31b5f2c",
      "metadata": {
        "id": "e31b5f2c"
      },
      "outputs": [],
      "source": [
        "m = random.random()\n",
        "c = random.random()"
      ]
    },
    {
      "cell_type": "code",
      "execution_count": 47,
      "id": "ab2cf893",
      "metadata": {
        "colab": {
          "base_uri": "https://localhost:8080/",
          "height": 265
        },
        "id": "ab2cf893",
        "outputId": "b8f41b2a-418f-496a-de69-97f91d8d90ac"
      },
      "outputs": [
        {
          "output_type": "display_data",
          "data": {
            "text/plain": [
              "<Figure size 432x288 with 1 Axes>"
            ],
            "image/png": "[encoded data removed]"
          },
          "metadata": {
            "needs_background": "light"
          }
        }
      ],
      "source": [
        "y_predicted = m * x + c\n",
        "\n",
        "\n",
        "#plot of initial solution\n",
        "plt.scatter(x,y) \n",
        "plt.plot([min(x), max(x)], [min(y_predicted), max(y_predicted)], color='red')\n",
        "plt.show()\n",
        "\n"
      ]
    },
    {
      "cell_type": "markdown",
      "source": [
        "#Setting the Gradient descent algorithm"
      ],
      "metadata": {
        "id": "ZrGZBgzvv_KP"
      },
      "id": "ZrGZBgzvv_KP"
    },
    {
      "cell_type": "code",
      "execution_count": 48,
      "id": "8480c4c1",
      "metadata": {
        "id": "8480c4c1"
      },
      "outputs": [],
      "source": [
        "\n",
        "#Setting the learning rate\n",
        "alpha = 0.0001  \n",
        "\n",
        "#Setting the no.of iterations\n",
        "Itr = 1000  \n",
        "\n",
        "#setting the length of the vector\n",
        "\n",
        "l = float(len(x)) \n"
      ]
    },
    {
      "cell_type": "markdown",
      "source": [
        "#Perform Gradient Descent Algorithm"
      ],
      "metadata": {
        "id": "Jkuk9_y00XGI"
      },
      "id": "Jkuk9_y00XGI"
    },
    {
      "cell_type": "code",
      "execution_count": 49,
      "id": "28a4d0c8",
      "metadata": {
        "colab": {
          "base_uri": "https://localhost:8080/",
          "height": 299
        },
        "id": "28a4d0c8",
        "outputId": "901b1364-2711-4556-c33a-313bc3f69a22"
      },
      "outputs": [
        {
          "output_type": "stream",
          "name": "stdout",
          "text": [
            "m = 1.4599298740879032\n",
            "c = 0.9952955765940573\n"
          ]
        },
        {
          "output_type": "display_data",
          "data": {
            "text/plain": [
              "<Figure size 432x288 with 1 Axes>"
            ],
            "image/png": "[encoded data removed]"
          },
          "metadata": {
            "needs_background": "light"
          }
        }
      ],
      "source": [
        "for i in range(Itr): \n",
        "    y_predicted = m * x + c  \n",
        "    d_m = (-2/l) * sum(x * (y - y_predicted))  \n",
        "    d_c = (-2/l) * sum(y - y_predicted)  \n",
        "    \n",
        "#updating m and c\n",
        "\n",
        "m = m - alpha * d_m  \n",
        "c = c - alpha * d_c  \n",
        "    \n",
        "#print values of m and c\n",
        "\n",
        "print(f\"m = {m}\")\n",
        "print(f\"c = {c}\")\n",
        "\n",
        "y_predicted = m * x + c\n",
        "\n",
        "#plot with new m and c values\n",
        "\n",
        "plt.scatter(x, y) \n",
        "plt.plot([min(x), max(x)], [min(y_predicted), max(y_predicted)], color='red')  \n",
        "plt.show()"
      ]
    }
  ],
  "metadata": {
    "kernelspec": {
      "display_name": "Python 3",
      "language": "python",
      "name": "python3"
    },
    "language_info": {
      "codemirror_mode": {
        "name": "ipython",
        "version": 3
      },
      "file_extension": ".py",
      "mimetype": "text/x-python",
      "name": "python",
      "nbconvert_exporter": "python",
      "pygments_lexer": "ipython3",
      "version": "3.8.8"
    },
    "colab": {
      "provenance": []
    }
  },
  "nbformat": 4,
  "nbformat_minor": 5
}