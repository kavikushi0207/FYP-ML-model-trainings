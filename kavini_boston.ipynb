{
  "nbformat": 4,
  "nbformat_minor": 0,
  "metadata": {
    "colab": {
      "provenance": [],
      "authorship_tag": "ABX9TyOhcUpaNcsmQNh3WDPiZux8",
      "include_colab_link": true
    },
    "kernelspec": {
      "name": "python3",
      "display_name": "Python 3"
    },
    "language_info": {
      "name": "python"
    }
  },
  "cells": [
    {
      "cell_type": "markdown",
      "metadata": {
        "id": "view-in-github",
        "colab_type": "text"
      },
      "source": [
        "<a href=\"https://colab.research.google.com/github/kavikushi0228/FYP-ML-model-trainings/blob/main/kavini_boston.ipynb\" target=\"_parent\"><img src=\"https://colab.research.google.com/assets/colab-badge.svg\" alt=\"Open In Colab\"/></a>"
      ]
    },
    {
      "cell_type": "code",
      "source": [
        "import keras"
      ],
      "metadata": {
        "id": "pX_xSCkhGdxi"
      },
      "execution_count": null,
      "outputs": []
    },
    {
      "cell_type": "code",
      "source": [
        "from sklearn.datasets import load_boston\n",
        "from sklearn.model_selection import train_test_split\n",
        "from sklearn.preprocessing import StandardScaler\n",
        "from keras.models import Sequential\n",
        "from keras.layers import Dense\n",
        "from keras.optimizers import Adam"
      ],
      "metadata": {
        "id": "9t-0IVP7H-rk"
      },
      "execution_count": null,
      "outputs": []
    },
    {
      "cell_type": "code",
      "source": [
        "# Load the Boston Housing Price dataset\n",
        "boston = load_boston()\n",
        "X = boston.data\n",
        "y = boston.target"
      ],
      "metadata": {
        "colab": {
          "base_uri": "https://localhost:8080/"
        },
        "id": "TFMDKL4yH-B5",
        "outputId": "eefb420e-ea74-46aa-d5b2-a303e61a2f5a"
      },
      "execution_count": null,
      "outputs": [
        {
          "output_type": "stream",
          "name": "stderr",
          "text": [
            "/usr/local/lib/python3.8/dist-packages/sklearn/utils/deprecation.py:87: FutureWarning: Function load_boston is deprecated; `load_boston` is deprecated in 1.0 and will be removed in 1.2.\n",
            "\n",
            "    The Boston housing prices dataset has an ethical problem. You can refer to\n",
            "    the documentation of this function for further details.\n",
            "\n",
            "    The scikit-learn maintainers therefore strongly discourage the use of this\n",
            "    dataset unless the purpose of the code is to study and educate about\n",
            "    ethical issues in data science and machine learning.\n",
            "\n",
            "    In this special case, you can fetch the dataset from the original\n",
            "    source::\n",
            "\n",
            "        import pandas as pd\n",
            "        import numpy as np\n",
            "\n",
            "\n",
            "        data_url = \"http://lib.stat.cmu.edu/datasets/boston\"\n",
            "        raw_df = pd.read_csv(data_url, sep=\"\\s+\", skiprows=22, header=None)\n",
            "        data = np.hstack([raw_df.values[::2, :], raw_df.values[1::2, :2]])\n",
            "        target = raw_df.values[1::2, 2]\n",
            "\n",
            "    Alternative datasets include the California housing dataset (i.e.\n",
            "    :func:`~sklearn.datasets.fetch_california_housing`) and the Ames housing\n",
            "    dataset. You can load the datasets as follows::\n",
            "\n",
            "        from sklearn.datasets import fetch_california_housing\n",
            "        housing = fetch_california_housing()\n",
            "\n",
            "    for the California housing dataset and::\n",
            "\n",
            "        from sklearn.datasets import fetch_openml\n",
            "        housing = fetch_openml(name=\"house_prices\", as_frame=True)\n",
            "\n",
            "    for the Ames housing dataset.\n",
            "    \n",
            "  warnings.warn(msg, category=FutureWarning)\n"
          ]
        }
      ]
    },
    {
      "cell_type": "code",
      "source": [
        "# Split the data into train and test sets\n",
        "X_train, X_test, y_train, y_test = train_test_split(X, y, test_size=0.2, random_state=42)"
      ],
      "metadata": {
        "id": "n6_RLoMhH93f"
      },
      "execution_count": null,
      "outputs": []
    },
    {
      "cell_type": "code",
      "source": [
        "# Scale the data\n",
        "scaler = StandardScaler()\n",
        "X_train = scaler.fit_transform(X_train)\n",
        "X_test = scaler.transform(X_test)\n"
      ],
      "metadata": {
        "id": "rnilpvhsH9w8"
      },
      "execution_count": null,
      "outputs": []
    },
    {
      "cell_type": "code",
      "source": [
        "\n",
        "# Build the model\n",
        "model = Sequential()\n",
        "model.add(Dense(64, input_shape=(X_train.shape[1],), activation='relu'))\n",
        "model.add(Dense(64, activation='relu'))\n",
        "model.add(Dense(1))"
      ],
      "metadata": {
        "id": "OjmKo6AsH9pa"
      },
      "execution_count": null,
      "outputs": []
    },
    {
      "cell_type": "code",
      "source": [
        "# Compile the model\n",
        "model.compile(loss='mean_squared_error', optimizer=Adam(lr=0.001))\n"
      ],
      "metadata": {
        "colab": {
          "base_uri": "https://localhost:8080/"
        },
        "id": "ZkEnmAgoH9fS",
        "outputId": "1510765d-e7a5-451d-df65-62808aa5b5ac"
      },
      "execution_count": null,
      "outputs": [
        {
          "output_type": "stream",
          "name": "stderr",
          "text": [
            "/usr/local/lib/python3.8/dist-packages/keras/optimizers/optimizer_v2/adam.py:110: UserWarning: The `lr` argument is deprecated, use `learning_rate` instead.\n",
            "  super(Adam, self).__init__(name, **kwargs)\n"
          ]
        }
      ]
    },
    {
      "cell_type": "code",
      "execution_count": null,
      "metadata": {
        "colab": {
          "base_uri": "https://localhost:8080/"
        },
        "id": "IqIdWQ4TGKgD",
        "outputId": "7a2ebfc9-f856-48de-a218-ae23a0c08d29"
      },
      "outputs": [
        {
          "output_type": "stream",
          "name": "stdout",
          "text": [
            "Epoch 1/100\n",
            "13/13 - 0s - loss: 9.2851 - 38ms/epoch - 3ms/step\n",
            "Epoch 2/100\n",
            "13/13 - 0s - loss: 9.2235 - 42ms/epoch - 3ms/step\n",
            "Epoch 3/100\n",
            "13/13 - 0s - loss: 9.2210 - 37ms/epoch - 3ms/step\n",
            "Epoch 4/100\n",
            "13/13 - 0s - loss: 9.1536 - 39ms/epoch - 3ms/step\n",
            "Epoch 5/100\n",
            "13/13 - 0s - loss: 9.3310 - 40ms/epoch - 3ms/step\n",
            "Epoch 6/100\n",
            "13/13 - 0s - loss: 9.0234 - 29ms/epoch - 2ms/step\n",
            "Epoch 7/100\n",
            "13/13 - 0s - loss: 8.9205 - 28ms/epoch - 2ms/step\n",
            "Epoch 8/100\n",
            "13/13 - 0s - loss: 8.8549 - 24ms/epoch - 2ms/step\n",
            "Epoch 9/100\n",
            "13/13 - 0s - loss: 8.7803 - 25ms/epoch - 2ms/step\n",
            "Epoch 10/100\n",
            "13/13 - 0s - loss: 8.7952 - 26ms/epoch - 2ms/step\n",
            "Epoch 11/100\n",
            "13/13 - 0s - loss: 8.7386 - 29ms/epoch - 2ms/step\n",
            "Epoch 12/100\n",
            "13/13 - 0s - loss: 8.7039 - 28ms/epoch - 2ms/step\n",
            "Epoch 13/100\n",
            "13/13 - 0s - loss: 8.6114 - 34ms/epoch - 3ms/step\n",
            "Epoch 14/100\n",
            "13/13 - 0s - loss: 8.5659 - 30ms/epoch - 2ms/step\n",
            "Epoch 15/100\n",
            "13/13 - 0s - loss: 8.5258 - 26ms/epoch - 2ms/step\n",
            "Epoch 16/100\n",
            "13/13 - 0s - loss: 8.4208 - 28ms/epoch - 2ms/step\n",
            "Epoch 17/100\n",
            "13/13 - 0s - loss: 8.4289 - 27ms/epoch - 2ms/step\n",
            "Epoch 18/100\n",
            "13/13 - 0s - loss: 8.3049 - 23ms/epoch - 2ms/step\n",
            "Epoch 19/100\n",
            "13/13 - 0s - loss: 8.2878 - 24ms/epoch - 2ms/step\n",
            "Epoch 20/100\n",
            "13/13 - 0s - loss: 8.2976 - 38ms/epoch - 3ms/step\n",
            "Epoch 21/100\n",
            "13/13 - 0s - loss: 8.2835 - 24ms/epoch - 2ms/step\n",
            "Epoch 22/100\n",
            "13/13 - 0s - loss: 8.1524 - 27ms/epoch - 2ms/step\n",
            "Epoch 23/100\n",
            "13/13 - 0s - loss: 8.0726 - 25ms/epoch - 2ms/step\n",
            "Epoch 24/100\n",
            "13/13 - 0s - loss: 8.0652 - 22ms/epoch - 2ms/step\n",
            "Epoch 25/100\n",
            "13/13 - 0s - loss: 8.0826 - 26ms/epoch - 2ms/step\n",
            "Epoch 26/100\n",
            "13/13 - 0s - loss: 8.0307 - 35ms/epoch - 3ms/step\n",
            "Epoch 27/100\n",
            "13/13 - 0s - loss: 7.9702 - 33ms/epoch - 3ms/step\n",
            "Epoch 28/100\n",
            "13/13 - 0s - loss: 7.8830 - 24ms/epoch - 2ms/step\n",
            "Epoch 29/100\n",
            "13/13 - 0s - loss: 7.9246 - 25ms/epoch - 2ms/step\n",
            "Epoch 30/100\n",
            "13/13 - 0s - loss: 7.8973 - 25ms/epoch - 2ms/step\n",
            "Epoch 31/100\n",
            "13/13 - 0s - loss: 7.7711 - 24ms/epoch - 2ms/step\n",
            "Epoch 32/100\n",
            "13/13 - 0s - loss: 7.7702 - 24ms/epoch - 2ms/step\n",
            "Epoch 33/100\n",
            "13/13 - 0s - loss: 7.6752 - 29ms/epoch - 2ms/step\n",
            "Epoch 34/100\n",
            "13/13 - 0s - loss: 7.7929 - 25ms/epoch - 2ms/step\n",
            "Epoch 35/100\n",
            "13/13 - 0s - loss: 7.6471 - 27ms/epoch - 2ms/step\n",
            "Epoch 36/100\n",
            "13/13 - 0s - loss: 7.6391 - 24ms/epoch - 2ms/step\n",
            "Epoch 37/100\n",
            "13/13 - 0s - loss: 7.5159 - 32ms/epoch - 2ms/step\n",
            "Epoch 38/100\n",
            "13/13 - 0s - loss: 7.5645 - 28ms/epoch - 2ms/step\n",
            "Epoch 39/100\n",
            "13/13 - 0s - loss: 7.4926 - 24ms/epoch - 2ms/step\n",
            "Epoch 40/100\n",
            "13/13 - 0s - loss: 7.4390 - 27ms/epoch - 2ms/step\n",
            "Epoch 41/100\n",
            "13/13 - 0s - loss: 7.4396 - 25ms/epoch - 2ms/step\n",
            "Epoch 42/100\n",
            "13/13 - 0s - loss: 7.3733 - 25ms/epoch - 2ms/step\n",
            "Epoch 43/100\n",
            "13/13 - 0s - loss: 7.4199 - 28ms/epoch - 2ms/step\n",
            "Epoch 44/100\n",
            "13/13 - 0s - loss: 7.2465 - 31ms/epoch - 2ms/step\n",
            "Epoch 45/100\n",
            "13/13 - 0s - loss: 7.3445 - 46ms/epoch - 4ms/step\n",
            "Epoch 46/100\n",
            "13/13 - 0s - loss: 7.1705 - 28ms/epoch - 2ms/step\n",
            "Epoch 47/100\n",
            "13/13 - 0s - loss: 7.1780 - 29ms/epoch - 2ms/step\n",
            "Epoch 48/100\n",
            "13/13 - 0s - loss: 7.1951 - 25ms/epoch - 2ms/step\n",
            "Epoch 49/100\n",
            "13/13 - 0s - loss: 7.2365 - 26ms/epoch - 2ms/step\n",
            "Epoch 50/100\n",
            "13/13 - 0s - loss: 7.1549 - 27ms/epoch - 2ms/step\n",
            "Epoch 51/100\n",
            "13/13 - 0s - loss: 7.2789 - 24ms/epoch - 2ms/step\n",
            "Epoch 52/100\n",
            "13/13 - 0s - loss: 6.9249 - 24ms/epoch - 2ms/step\n",
            "Epoch 53/100\n",
            "13/13 - 0s - loss: 7.0455 - 25ms/epoch - 2ms/step\n",
            "Epoch 54/100\n",
            "13/13 - 0s - loss: 7.0596 - 26ms/epoch - 2ms/step\n",
            "Epoch 55/100\n",
            "13/13 - 0s - loss: 7.0533 - 29ms/epoch - 2ms/step\n",
            "Epoch 56/100\n",
            "13/13 - 0s - loss: 6.9215 - 27ms/epoch - 2ms/step\n",
            "Epoch 57/100\n",
            "13/13 - 0s - loss: 6.8270 - 30ms/epoch - 2ms/step\n",
            "Epoch 58/100\n",
            "13/13 - 0s - loss: 6.7691 - 30ms/epoch - 2ms/step\n",
            "Epoch 59/100\n",
            "13/13 - 0s - loss: 6.7044 - 32ms/epoch - 2ms/step\n",
            "Epoch 60/100\n",
            "13/13 - 0s - loss: 6.7440 - 27ms/epoch - 2ms/step\n",
            "Epoch 61/100\n",
            "13/13 - 0s - loss: 6.6624 - 24ms/epoch - 2ms/step\n",
            "Epoch 62/100\n",
            "13/13 - 0s - loss: 6.7045 - 27ms/epoch - 2ms/step\n",
            "Epoch 63/100\n",
            "13/13 - 0s - loss: 6.6561 - 33ms/epoch - 3ms/step\n",
            "Epoch 64/100\n",
            "13/13 - 0s - loss: 6.6817 - 25ms/epoch - 2ms/step\n",
            "Epoch 65/100\n",
            "13/13 - 0s - loss: 6.5511 - 29ms/epoch - 2ms/step\n",
            "Epoch 66/100\n",
            "13/13 - 0s - loss: 6.5498 - 41ms/epoch - 3ms/step\n",
            "Epoch 67/100\n",
            "13/13 - 0s - loss: 6.5149 - 29ms/epoch - 2ms/step\n",
            "Epoch 68/100\n",
            "13/13 - 0s - loss: 6.4945 - 26ms/epoch - 2ms/step\n",
            "Epoch 69/100\n",
            "13/13 - 0s - loss: 6.4645 - 28ms/epoch - 2ms/step\n",
            "Epoch 70/100\n",
            "13/13 - 0s - loss: 6.4849 - 29ms/epoch - 2ms/step\n",
            "Epoch 71/100\n",
            "13/13 - 0s - loss: 6.3222 - 25ms/epoch - 2ms/step\n",
            "Epoch 72/100\n",
            "13/13 - 0s - loss: 6.3010 - 24ms/epoch - 2ms/step\n",
            "Epoch 73/100\n",
            "13/13 - 0s - loss: 6.2825 - 27ms/epoch - 2ms/step\n",
            "Epoch 74/100\n",
            "13/13 - 0s - loss: 6.2638 - 27ms/epoch - 2ms/step\n",
            "Epoch 75/100\n",
            "13/13 - 0s - loss: 6.1516 - 25ms/epoch - 2ms/step\n",
            "Epoch 76/100\n",
            "13/13 - 0s - loss: 6.2635 - 34ms/epoch - 3ms/step\n",
            "Epoch 77/100\n",
            "13/13 - 0s - loss: 6.1694 - 43ms/epoch - 3ms/step\n",
            "Epoch 78/100\n",
            "13/13 - 0s - loss: 6.1320 - 25ms/epoch - 2ms/step\n",
            "Epoch 79/100\n",
            "13/13 - 0s - loss: 6.1588 - 27ms/epoch - 2ms/step\n",
            "Epoch 80/100\n",
            "13/13 - 0s - loss: 6.0179 - 26ms/epoch - 2ms/step\n",
            "Epoch 81/100\n",
            "13/13 - 0s - loss: 6.0186 - 24ms/epoch - 2ms/step\n",
            "Epoch 82/100\n",
            "13/13 - 0s - loss: 5.9969 - 24ms/epoch - 2ms/step\n",
            "Epoch 83/100\n",
            "13/13 - 0s - loss: 5.9869 - 28ms/epoch - 2ms/step\n",
            "Epoch 84/100\n",
            "13/13 - 0s - loss: 5.9140 - 24ms/epoch - 2ms/step\n",
            "Epoch 85/100\n",
            "13/13 - 0s - loss: 5.8638 - 30ms/epoch - 2ms/step\n",
            "Epoch 86/100\n",
            "13/13 - 0s - loss: 5.8318 - 30ms/epoch - 2ms/step\n",
            "Epoch 87/100\n",
            "13/13 - 0s - loss: 5.8456 - 24ms/epoch - 2ms/step\n",
            "Epoch 88/100\n",
            "13/13 - 0s - loss: 5.7536 - 27ms/epoch - 2ms/step\n",
            "Epoch 89/100\n",
            "13/13 - 0s - loss: 5.7026 - 28ms/epoch - 2ms/step\n",
            "Epoch 90/100\n",
            "13/13 - 0s - loss: 5.7193 - 38ms/epoch - 3ms/step\n",
            "Epoch 91/100\n",
            "13/13 - 0s - loss: 5.6863 - 32ms/epoch - 2ms/step\n",
            "Epoch 92/100\n",
            "13/13 - 0s - loss: 5.6717 - 25ms/epoch - 2ms/step\n",
            "Epoch 93/100\n",
            "13/13 - 0s - loss: 5.7075 - 26ms/epoch - 2ms/step\n",
            "Epoch 94/100\n",
            "13/13 - 0s - loss: 5.5475 - 25ms/epoch - 2ms/step\n",
            "Epoch 95/100\n",
            "13/13 - 0s - loss: 5.6247 - 25ms/epoch - 2ms/step\n",
            "Epoch 96/100\n",
            "13/13 - 0s - loss: 5.5053 - 27ms/epoch - 2ms/step\n",
            "Epoch 97/100\n",
            "13/13 - 0s - loss: 5.5001 - 27ms/epoch - 2ms/step\n",
            "Epoch 98/100\n",
            "13/13 - 0s - loss: 5.4810 - 25ms/epoch - 2ms/step\n",
            "Epoch 99/100\n",
            "13/13 - 0s - loss: 5.4119 - 28ms/epoch - 2ms/step\n",
            "Epoch 100/100\n",
            "13/13 - 0s - loss: 5.4366 - 26ms/epoch - 2ms/step\n",
            "Test loss: 10.551568984985352\n"
          ]
        }
      ],
      "source": [
        "# Train the model\n",
        "model.fit(X_train, y_train, epochs=100, batch_size=32, verbose=2)\n",
        "\n",
        "# Evaluate the model\n",
        "score = model.evaluate(X_test, y_test, verbose=0)\n",
        "print('Test loss:', score)\n"
      ]
    },
    {
      "cell_type": "markdown",
      "source": [
        "# Generate predictions for the test data\n",
        "\n",
        "\n"
      ],
      "metadata": {
        "id": "gIczpBXadyM4"
      }
    },
    {
      "cell_type": "code",
      "source": [
        "y_pred = model.predict(X_test)"
      ],
      "metadata": {
        "colab": {
          "base_uri": "https://localhost:8080/"
        },
        "id": "m099UltNd_1Q",
        "outputId": "f7283c4f-bbae-4ef7-ffea-74611860794a"
      },
      "execution_count": null,
      "outputs": [
        {
          "output_type": "stream",
          "name": "stdout",
          "text": [
            "4/4 [==============================] - 0s 3ms/step\n"
          ]
        }
      ]
    },
    {
      "cell_type": "markdown",
      "source": [
        "# Evaluate the model's performance"
      ],
      "metadata": {
        "id": "EpdiYrebeFYd"
      }
    },
    {
      "cell_type": "code",
      "source": [
        "\n",
        "from sklearn.metrics import mean_absolute_error,mean_squared_error,r2_score\n",
        "print(\"Mean Absolute Error:\", mean_absolute_error(y_test, y_pred))\n",
        "print(\"Mean Squared Error:\", mean_squared_error(y_test, y_pred))\n",
        "print(\"R2 Score:\", r2_score(y_test, y_pred))"
      ],
      "metadata": {
        "id": "2vDFgASaeD8R",
        "outputId": "4d54a0b1-b6ca-4b90-ec9b-17b088893274",
        "colab": {
          "base_uri": "https://localhost:8080/"
        }
      },
      "execution_count": null,
      "outputs": [
        {
          "output_type": "stream",
          "name": "stdout",
          "text": [
            "Mean Absolute Error: 2.145172437032064\n",
            "Mean Squared Error: 10.5515693341166\n",
            "R2 Score: 0.8561158462117158\n"
          ]
        }
      ]
    }
  ]
}